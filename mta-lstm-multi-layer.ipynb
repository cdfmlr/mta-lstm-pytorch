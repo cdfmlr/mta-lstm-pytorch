{
 "cells": [
  {
   "cell_type": "markdown",
   "metadata": {},
   "source": [
    "# MTA-LSTM-PyTorch\n",
    "\n",
    "This is an implementation of the paper [Topic-to-Essay Generation with Neural Networks](http://ir.hit.edu.cn/~xcfeng/xiaocheng%20Feng's%20Homepage_files/final-topic-essay-generation.pdf). The original work can be found [here](https://github.com/hit-computer/MTA-LSTM), which is implemented in TensorFlow and is totally out-of-date, further more, the owner doesn't seem to maintain it anymore. Therefore, I decided to re-implement it in a simple yet powerful framework, PyTorch.\n",
    "\n",
    "In this notebook, I'll show you how to build a neural network proposed in the paper step by step from scratch."
   ]
  },
  {
   "cell_type": "code",
   "execution_count": 1,
   "metadata": {},
   "outputs": [],
   "source": [
    "# Config\n",
    "\n",
    "args = {\n",
    "    'corpus_file': 'composition_small_1.txt',\n",
    "    'target_epoch': 45,\n",
    "    'checkpoint_version_name': 'small',\n",
    "    'checkpoint_epoch': 45,\n",
    "    'checkpoint_type': 'trainable',\n",
    "    'plt': True,   # not work in this notbook\n",
    "    'corpus_test_split': 0.95,\n",
    "}"
   ]
  },
  {
   "cell_type": "markdown",
   "metadata": {},
   "source": [
    "## Import packages\n",
    "\n",
    "The followings are some packages that'll be used in this work. Make sure you have them installed."
   ]
  },
  {
   "cell_type": "code",
   "execution_count": 2,
   "metadata": {},
   "outputs": [],
   "source": [
    "import gensim\n",
    "from gensim.models import KeyedVectors\n",
    "import numpy as np\n",
    "import torch\n",
    "from torch import nn, autograd, optim\n",
    "from torch.optim.lr_scheduler import ReduceLROnPlateau\n",
    "from torch.nn import Parameter, LayerNorm\n",
    "from torch.autograd import Variable\n",
    "import torch.jit as jit\n",
    "import torch.nn.functional as F\n",
    "import time\n",
    "import os\n",
    "import math\n",
    "from tqdm import tqdm\n",
    "import collections\n",
    "from collections import namedtuple\n",
    "import random"
   ]
  },
  {
   "cell_type": "code",
   "execution_count": 3,
   "metadata": {
    "scrolled": true
   },
   "outputs": [],
   "source": [
    "# import matplotlib as mpl\n",
    "# import matplotlib.pyplot as plt\n",
    "# !wget \"https://noto-website-2.storage.googleapis.com/pkgs/NotoSansCJKtc-hinted.zip\"\n",
    "# !unzip NotoSansCJKtc-hinted.zip\n",
    "# !sudo mv NotoSansCJKtc-Black.otf /usr/share/fonts/truetype/\n",
    "# !sudo mv NotoSansCJKtc-Bold.otf /usr/share/fonts/truetype/\n",
    "# !sudo mv NotoSansCJKtc-DemiLight.otf /usr/share/fonts/truetype/\n",
    "# !sudo mv NotoSansCJKtc-Light.otf /usr/share/fonts/truetype/\n",
    "# !sudo mv NotoSansCJKtc-Medium.otf /usr/share/fonts/truetype/\n",
    "# !sudo mv NotoSansCJKtc-Regular.otf /usr/share/fonts/truetype/\n",
    "# !sudo mv NotoSansCJKtc-Thin.otf /usr/share/fonts/truetype/\n",
    "# !sudo mv NotoSansMonoCJKtc-Bold.otf /usr/share/fonts/truetype/\n",
    "# !sudo mv NotoSansMonoCJKtc-Regular.otf /usr/share/fonts/truetype/"
   ]
  },
  {
   "cell_type": "code",
   "execution_count": 4,
   "metadata": {},
   "outputs": [],
   "source": [
    "import matplotlib.font_manager as fm\n",
    "import matplotlib.font_manager as font_manager\n",
    "\n",
    "font_dirs = ['/fonts/', ]\n",
    "font_files = font_manager.findSystemFonts(fontpaths=font_dirs)\n",
    "\n",
    "# The createFontList function was deprecated in Matplotlib 3.2 and will be removed two minor releases later. Use FontManager.addfont instead.\n",
    "# font_list = font_manager.createFontList(font_files)\n",
    "# font_manager.fontManager.ttflist.extend(font_list)\n",
    "for font_file in font_files:\n",
    "    font_manager.fontManager.addfont(font_file)\n",
    "\n",
    "path = 'fonts/NotoSansSC-Regular.otf'\n",
    "fontprop = fm.FontProperties(fname=path)"
   ]
  },
  {
   "cell_type": "code",
   "execution_count": 5,
   "metadata": {},
   "outputs": [
    {
     "name": "stdout",
     "output_type": "stream",
     "text": [
      "Available cuda: 0\n"
     ]
    }
   ],
   "source": [
    "os.environ[\"CUDA_VISIBLE_DEVICES\"]=\"0,1\"\n",
    "print('Available cuda:', torch.cuda.device_count())\n",
    "if torch.cuda.is_available():\n",
    "    device_num = 1\n",
    "    deviceName = \"cuda:%d\" % device_num\n",
    "    torch.cuda.set_device(device_num)\n",
    "    print('Current device:', torch.cuda.current_device())\n",
    "else:\n",
    "    deviceName = \"cpu\"\n",
    "    \n",
    "device = torch.device(deviceName)"
   ]
  },
  {
   "cell_type": "markdown",
   "metadata": {},
   "source": [
    "## Build a dictionary and pretrained embedding system\n",
    "\n",
    "Here I'm gonna load the pretrained word2vec vocab and vectors. Please refer to [this notebook]() to he how to train it.\n",
    "\n",
    "The code ```fvec.vectors``` is where we get the pretrained vectors.\n",
    "```<PAD>```, ```<BOS>```, ```<EOS>``` and ```<UNK>``` are 4 common tokens which stands for **PADding**, **Begin-Of-Sentence**, **End-Of-Sentence** and **UNKnown** respectively. We simply add them into the vocabularies."
   ]
  },
  {
   "cell_type": "code",
   "execution_count": 6,
   "metadata": {},
   "outputs": [
    {
     "name": "stdout",
     "output_type": "stream",
     "text": [
      "total 189613 words\n"
     ]
    }
   ],
   "source": [
    "save_folder = 'model_result_multi_layer'\n",
    "\n",
    "vocab_check_point = '%s/vocab.pkl' % save_folder\n",
    "word_vec_check_point = '%s/word_vec.pkl' % save_folder\n",
    "\n",
    "if os.path.exists(vocab_check_point) and os.path.exists(word_vec_check_point):\n",
    "    vocab = torch.load(vocab_check_point)\n",
    "    word_vec = torch.load(word_vec_check_point)\n",
    "else:\n",
    "    file_path = 'data/'\n",
    "    \n",
    "    fvec = KeyedVectors.load_word2vec_format(file_path+'composition_mincount_1_305000_vec_original.txt', binary=False)\n",
    "    \n",
    "    word_vec = fvec.vectors\n",
    "    \n",
    "    vocab = ['<PAD>', '<BOS>', '<EOS>', '<UNK>']\n",
    "    vocab.extend(list(fvec.index_to_key))\n",
    "    \n",
    "    word_vec = np.concatenate((np.array([[0]*word_vec.shape[1]] * 4), word_vec))\n",
    "    word_vec = torch.tensor(word_vec).float()\n",
    "    \n",
    "    del fvec\n",
    "    \n",
    "    torch.save(vocab, vocab_check_point)\n",
    "    torch.save(word_vec, word_vec_check_point)\n",
    "    \n",
    "print(\"total %d words\" % len(word_vec))"
   ]
  },
  {
   "cell_type": "markdown",
   "metadata": {},
   "source": [
    "## Build a word-index convertor\n",
    "\n",
    "We don't want to use type of string directly when training, instead we map them to a unique index in integer. In text generation phase, we'll then convert them back to string."
   ]
  },
  {
   "cell_type": "code",
   "execution_count": 7,
   "metadata": {},
   "outputs": [],
   "source": [
    "word_to_idx = {ch: i for i, ch in enumerate(vocab)}\n",
    "idx_to_word = {i: ch for i, ch in enumerate(vocab)}"
   ]
  },
  {
   "cell_type": "markdown",
   "metadata": {},
   "source": [
    "## Load preprocessed data\n",
    "\n",
    "You can prepare for your own data, or simply use what I offered in the data folder."
   ]
  },
  {
   "cell_type": "code",
   "execution_count": 8,
   "metadata": {},
   "outputs": [
    {
     "name": "stderr",
     "output_type": "stream",
     "text": [
      "100%|██████████| 10000/10000 [00:00<00:00, 39617.94it/s]"
     ]
    },
    {
     "name": "stdout",
     "output_type": "stream",
     "text": [
      "10000\n"
     ]
    },
    {
     "name": "stderr",
     "output_type": "stream",
     "text": [
      "\n"
     ]
    }
   ],
   "source": [
    "essays = []\n",
    "topics = []\n",
    "\n",
    "file_path = 'data/'\n",
    "file_name = args['corpus_file']  ### TODO\n",
    "\n",
    "num_lines = sum(1 for line in open(file_path+file_name, 'r'))\n",
    "with open(file_path+file_name) as f:\n",
    "    for line in tqdm(f, total=num_lines):\n",
    "        essay, topic = line.replace('\\n', '').split(' </d> ')\n",
    "        essays.append(essay.split(' '))\n",
    "        topics.append(topic.split(' '))\n",
    "#     f.close()\n",
    "    \n",
    "assert len(topics) == len(essays)\n",
    "print(len(topics))"
   ]
  },
  {
   "cell_type": "markdown",
   "metadata": {},
   "source": [
    "We then map all the training and testing corpus to integer index word-by-word, with the help of our convertor. Note that we map it to ```<UNK>``` if the words in corpus are not in the dictionary."
   ]
  },
  {
   "cell_type": "code",
   "execution_count": 9,
   "metadata": {},
   "outputs": [
    {
     "name": "stderr",
     "output_type": "stream",
     "text": [
      "100%|██████████| 9500/9500 [00:00<00:00, 53483.91it/s]\n",
      "100%|██████████| 9500/9500 [00:00<00:00, 321999.98it/s]\n",
      "100%|██████████| 500/500 [00:00<00:00, 44466.04it/s]\n",
      "100%|██████████| 500/500 [00:00<00:00, 142382.51it/s]\n"
     ]
    }
   ],
   "source": [
    "split_index = int(len(topics) * args['corpus_test_split'])\n",
    "\n",
    "corpus_indice = list(map(lambda x: [word_to_idx[w] if (w in word_to_idx) else word_to_idx['<UNK>'] for w in x], tqdm(essays[:split_index])))\n",
    "topics_indice = list(map(lambda x: [word_to_idx[w] if (w in word_to_idx) else word_to_idx['<UNK>'] for w in x], tqdm(topics[:split_index])))\n",
    "corpus_test = list(map(lambda x: [word_to_idx[w] if (w in word_to_idx) else word_to_idx['<UNK>'] for w in x], tqdm(essays[split_index:])))\n",
    "topics_test = list(map(lambda x: [word_to_idx[w] if (w in word_to_idx) else word_to_idx['<UNK>'] for w in x], tqdm(topics[split_index:])))"
   ]
  },
  {
   "cell_type": "code",
   "execution_count": 10,
   "metadata": {},
   "outputs": [],
   "source": [
    "def viewData(topics, X):\n",
    "    topics = [idx_to_word[x] for x in topics]\n",
    "    X = [idx_to_word[x] for x in X]\n",
    "    print(topics, X)"
   ]
  },
  {
   "cell_type": "code",
   "execution_count": 11,
   "metadata": {},
   "outputs": [],
   "source": [
    "from random import shuffle\n",
    "\n",
    "def shuffleData(topics_indice, corpus_indice):\n",
    "    ind_list = [i for i in range(len(topics_indice))]\n",
    "    shuffle(ind_list)\n",
    "    topics_indice = np.array(topics_indice)\n",
    "    corpus_indice = np.array(corpus_indice)\n",
    "    topics_indice = topics_indice[ind_list,]\n",
    "    corpus_indice = corpus_indice[ind_list,]\n",
    "    topics_indice = topics_indice.tolist()\n",
    "    corpus_indice = corpus_indice.tolist()\n",
    "    return topics_indice, corpus_indice\n",
    "\n",
    "# topics_indice, corpus_indice = shuffleData(topics_indice, corpus_indice)\n",
    "# viewData(topics_indice[0], corpus_indice[0])"
   ]
  },
  {
   "cell_type": "code",
   "execution_count": 12,
   "metadata": {},
   "outputs": [],
   "source": [
    "for t in topics_indice:\n",
    "    if len(t) != 5:\n",
    "        print('less than 5')"
   ]
  },
  {
   "cell_type": "markdown",
   "metadata": {},
   "source": [
    "We need to know the max length of training corpus too, in order to pad sequences that aren't long enough."
   ]
  },
  {
   "cell_type": "code",
   "execution_count": 13,
   "metadata": {},
   "outputs": [],
   "source": [
    "length = list(map(lambda x: len(x), corpus_indice))"
   ]
  },
  {
   "cell_type": "markdown",
   "metadata": {},
   "source": [
    "Delete useless dependencies to free up some space."
   ]
  },
  {
   "cell_type": "code",
   "execution_count": 14,
   "metadata": {},
   "outputs": [],
   "source": [
    "del essays\n",
    "del topics"
   ]
  },
  {
   "cell_type": "markdown",
   "metadata": {},
   "source": [
    "## Batch data iterator\n",
    "\n",
    "We want to iter through training data in batches and feed them into the network, and this is how we prepare for it:"
   ]
  },
  {
   "cell_type": "code",
   "execution_count": 15,
   "metadata": {},
   "outputs": [],
   "source": [
    "def data_iterator(corpus_indice, topics_indice, batch_size, num_steps):\n",
    "    epoch_size = len(corpus_indice) // batch_size\n",
    "    for i in range(epoch_size):\n",
    "        raw_data = corpus_indice[i*batch_size: (i+1)*batch_size]\n",
    "        key_words = topics_indice[i*batch_size: (i+1)*batch_size]\n",
    "        data = np.zeros((len(raw_data), num_steps+1), dtype=np.int64)\n",
    "        for i in range(batch_size):\n",
    "            doc = raw_data[i]\n",
    "            tmp = [1]\n",
    "            tmp.extend(doc)\n",
    "            tmp.extend([2])\n",
    "            tmp = np.array(tmp, dtype=np.int64)\n",
    "            _size = tmp.shape[0]\n",
    "            data[i][:_size] = tmp\n",
    "        key_words = np.array(key_words, dtype=np.int64)\n",
    "        x = data[:, 0:num_steps]\n",
    "        y = data[:, 1:]\n",
    "        mask = np.float32(x != 0)\n",
    "        x = torch.tensor(x)\n",
    "        y = torch.tensor(y)\n",
    "        mask = torch.tensor(mask)\n",
    "        key_words = torch.tensor(key_words)\n",
    "        yield(x, y, mask, key_words)"
   ]
  },
  {
   "cell_type": "markdown",
   "metadata": {},
   "source": [
    "## Build model: MTA-LSTM\n",
    "\n",
    "This is the most important part in the notebook."
   ]
  },
  {
   "cell_type": "markdown",
   "metadata": {},
   "source": [
    "### Bahdanau Attention"
   ]
  },
  {
   "cell_type": "code",
   "execution_count": 16,
   "metadata": {},
   "outputs": [],
   "source": [
    "class Attention(nn.Module):\n",
    "    \"\"\"Implements Bahdanau (MLP) attention\"\"\"\n",
    "    \n",
    "    def __init__(self, hidden_size, embed_size):\n",
    "        super(Attention, self).__init__()\n",
    "        \n",
    "        self.Ua = nn.Linear(embed_size, hidden_size, bias=False)\n",
    "        self.Wa = nn.Linear(hidden_size, hidden_size, bias=False)\n",
    "        self.va = nn.Linear(hidden_size, 1, bias=True)\n",
    "        # to store attention scores\n",
    "        self.alphas = None\n",
    "        \n",
    "    def forward(self, query, topics, coverage_vector):\n",
    "        scores = []\n",
    "        C_t = coverage_vector.clone()\n",
    "        for i in range(topics.shape[1]):\n",
    "            proj_key = self.Ua(topics[:, i, :])\n",
    "            query = self.Wa(query)\n",
    "            scores += [self.va(torch.tanh(query + proj_key)) * C_t[:, i:i+1]]\n",
    "            \n",
    "        # stack scores\n",
    "        scores = torch.stack(scores, dim=1)\n",
    "        scores = scores.squeeze(2)\n",
    "#         print(scores.shape)\n",
    "        # turn scores to probabilities\n",
    "        alphas = F.softmax(scores, dim=1)\n",
    "        self.alphas = alphas\n",
    "        \n",
    "        # mt vector is the weighted sum of the topics\n",
    "        mt = torch.bmm(alphas.unsqueeze(1), topics)\n",
    "        mt = mt.squeeze(1)\n",
    "        \n",
    "        # mt shape: [batch x embed], alphas shape: [batch x num_keywords]\n",
    "        return mt, alphas"
   ]
  },
  {
   "cell_type": "markdown",
   "metadata": {},
   "source": [
    "### Attention Decoder"
   ]
  },
  {
   "cell_type": "code",
   "execution_count": 17,
   "metadata": {},
   "outputs": [],
   "source": [
    "class AttentionDecoder(nn.Module):\n",
    "    def __init__(self, hidden_size, embed_size, num_layers, dropout=0.5):\n",
    "        super(AttentionDecoder, self).__init__()\n",
    "        \n",
    "        self.hidden_size = hidden_size\n",
    "        self.embed_size = embed_size\n",
    "        self.num_layers = num_layers\n",
    "        self.dropout = dropout\n",
    "        \n",
    "        # topic attention\n",
    "        self.attention = Attention(hidden_size, embed_size)\n",
    "        \n",
    "        # lstm\n",
    "        self.rnn = nn.LSTM(input_size=embed_size * 2, \n",
    "                           hidden_size=hidden_size, \n",
    "                           num_layers=num_layers, \n",
    "                           dropout=dropout)\n",
    "        \n",
    "    def forward(self, input, output, hidden, phi, topics, coverage_vector):\n",
    "        # 1. calculate attention weight and mt\n",
    "        mt, score = self.attention(output.squeeze(0), topics, coverage_vector)\n",
    "        mt = mt.unsqueeze(1).permute(1, 0, 2)\n",
    "        \n",
    "        # 2. update coverge vector [batch x num_keywords]\n",
    "        coverage_vector = coverage_vector - score / phi\n",
    "        \n",
    "        # 3. concat input and Tt, and feed into rnn \n",
    "        output, hidden = self.rnn(torch.cat([input, mt], dim=2), hidden)\n",
    "        \n",
    "        return output, hidden, score, coverage_vector"
   ]
  },
  {
   "cell_type": "markdown",
   "metadata": {},
   "source": [
    "### MTA-LSTM model"
   ]
  },
  {
   "cell_type": "code",
   "execution_count": 18,
   "metadata": {},
   "outputs": [],
   "source": [
    "LSTMState = namedtuple('LSTMState', ['hx', 'cx'])\n",
    "class MTALSTM(nn.Module):\n",
    "    def __init__(self, hidden_dim, embed_dim, num_keywords, num_layers, weight,\n",
    "                 num_labels, bidirectional, dropout=0.5, **kwargs):\n",
    "        super(MTALSTM, self).__init__(**kwargs)\n",
    "        self.hidden_dim = hidden_dim\n",
    "        self.embed_dim = embed_dim\n",
    "        self.num_layers = num_layers\n",
    "        self.num_labels = num_labels\n",
    "        self.bidirectional = bidirectional\n",
    "        if num_layers <= 1:\n",
    "            self.dropout = 0\n",
    "        else:\n",
    "            self.dropout = dropout\n",
    "        self.embedding = nn.Embedding.from_pretrained(weight)\n",
    "        self.embedding.weight.requires_grad = False\n",
    "        self.Uf = nn.Linear(embed_dim * num_keywords, num_keywords, bias=False)\n",
    "        \n",
    "        # attention decoder\n",
    "        self.decoder = AttentionDecoder(hidden_size=hidden_dim, \n",
    "                                        embed_size=embed_dim, \n",
    "                                        num_layers=num_layers, \n",
    "                                        dropout=dropout)\n",
    "        \n",
    "        # adaptive softmax\n",
    "        self.adaptiveSoftmax = nn.AdaptiveLogSoftmaxWithLoss(hidden_dim, \n",
    "                                                             num_labels, \n",
    "                                                             cutoffs=[round(num_labels / 20), 4*round(num_labels / 20)])\n",
    "    \n",
    "    def forward(self, inputs, topics, output, hidden=None, mask=None, target=None, coverage_vector=None, seq_length=None):\n",
    "        embeddings = self.embedding(inputs)\n",
    "        topics_embed = self.embedding(topics)\n",
    "        ''' calculate phi [batch x num_keywords] '''\n",
    "        phi = None\n",
    "        phi = torch.sum(mask, dim=1, keepdim=True) * torch.sigmoid(self.Uf(topics_embed.reshape(topics_embed.shape[0], -1).float()))\n",
    "        \n",
    "        # loop through sequence\n",
    "        inputs = embeddings.permute([1, 0, 2]).unbind(0)\n",
    "        output_states = []\n",
    "        attn_weight = []\n",
    "        for i in range(len(inputs)):\n",
    "            output, hidden, score, coverage_vector = self.decoder(input=inputs[i].unsqueeze(0), \n",
    "                                                                        output=output, \n",
    "                                                                        hidden=hidden, \n",
    "                                                                        phi=phi, \n",
    "                                                                        topics=topics_embed, \n",
    "                                                                        coverage_vector=coverage_vector) # [seq_len x batch x embed_size]\n",
    "            output_states += [output]\n",
    "            attn_weight += [score]\n",
    "            \n",
    "        output_states = torch.stack(output_states)\n",
    "        attn_weight = torch.stack(attn_weight)\n",
    "        \n",
    "        # calculate loss py adaptiveSoftmax\n",
    "        outputs = self.adaptiveSoftmax(output_states.reshape(-1, output_states.shape[-1]), target.t().reshape((-1,)))\n",
    "        \n",
    "        return outputs, output_states, hidden, attn_weight, coverage_vector\n",
    "    \n",
    "    def inference(self, inputs, topics, output, hidden=None, mask=None, coverage_vector=None, seq_length=None):\n",
    "        embeddings = self.embedding(inputs)\n",
    "        topics_embed = self.embedding(topics)\n",
    "       \n",
    "        phi = None\n",
    "        phi = seq_length.float() * torch.sigmoid(self.Uf(topics_embed.reshape(topics_embed.shape[0], -1).float()))\n",
    "        \n",
    "        queries = embeddings.permute([1, 0, 2])[-1].unsqueeze(0)\n",
    "        \n",
    "        inputs = queries.permute([1, 0, 2]).unbind(0)\n",
    "        output_states = []\n",
    "        attn_weight = []\n",
    "        for i in range(len(inputs)):\n",
    "            output, hidden, score, coverage_vector = self.decoder(input=inputs[i].unsqueeze(0), \n",
    "                                                                        output=output, \n",
    "                                                                        hidden=hidden, \n",
    "                                                                        phi=phi, \n",
    "                                                                        topics=topics_embed, \n",
    "                                                                        coverage_vector=coverage_vector) # [seq_len x batch x embed_size]\n",
    "            output_states += [output]\n",
    "            attn_weight += [score]\n",
    "            \n",
    "        output_states = torch.stack(output_states)\n",
    "        attn_weight = torch.stack(attn_weight)\n",
    "        \n",
    "        outputs = self.adaptiveSoftmax.log_prob(output_states.reshape(-1, output_states.shape[-1]))\n",
    "        return outputs, output_states, hidden, attn_weight, coverage_vector\n",
    "    \n",
    "    def init_hidden(self, batch_size):\n",
    "#         hidden = torch.zeros(num_layers, batch_size, hidden_dim)\n",
    "#         hidden = LSTMState(torch.zeros(batch_size, hidden_dim).to(device), torch.zeros(batch_size, hidden_dim).to(device))\n",
    "        hidden = (torch.zeros(self.num_layers, batch_size, self.hidden_dim).to(device), \n",
    "                  torch.zeros(self.num_layers, batch_size, self.hidden_dim).to(device))\n",
    "        return hidden\n",
    "    \n",
    "    def init_coverage_vector(self, batch_size, num_keywords):\n",
    "#         self.coverage_vector = torch.ones([batch_size, num_keywords]).to(device)\n",
    "        return torch.ones([batch_size, num_keywords]).to(device)\n",
    "#         print(self.coverage_vector)\n",
    "    "
   ]
  },
  {
   "cell_type": "markdown",
   "metadata": {},
   "source": [
    "## Greedy decode strategy"
   ]
  },
  {
   "cell_type": "code",
   "execution_count": 19,
   "metadata": {},
   "outputs": [],
   "source": [
    "def pad_topic(topics):\n",
    "    topics = [word_to_idx[x] for x in topics]\n",
    "    topics = torch.tensor(topics)\n",
    "    print(topics)\n",
    "    max_num = 5\n",
    "    size = 1\n",
    "    ans = np.zeros((size, max_num), dtype=int)\n",
    "    for i in range(size):\n",
    "        true_len = min(len(topics), max_num)\n",
    "        for j in range(true_len):\n",
    "            print(topics[i])\n",
    "            ans[i][j] = topics[i][j]\n",
    "    return ans"
   ]
  },
  {
   "cell_type": "code",
   "execution_count": 20,
   "metadata": {},
   "outputs": [],
   "source": [
    "def predict_rnn(topics, num_chars, model, idx_to_word, word_to_idx):\n",
    "    output_idx = [1]\n",
    "    topics = [word_to_idx[x] for x in topics]\n",
    "    topics = torch.tensor(topics)\n",
    "    topics = topics.reshape((1, topics.shape[0]))\n",
    "#     hidden = torch.zeros(num_layers, 1, hidden_dim)\n",
    "#     hidden = (torch.zeros(num_layers, 1, hidden_dim).to(device), torch.zeros(num_layers, 1, hidden_dim).to(device))\n",
    "    hidden = model.init_hidden(batch_size=1)\n",
    "    if use_gpu:\n",
    "#         hidden = hidden.cuda()\n",
    "        adaptive_softmax.to(device)\n",
    "        topics = topics.to(device)\n",
    "    coverage_vector = model.init_coverage_vector(topics.shape[0], topics.shape[1])\n",
    "    attentions = torch.zeros(num_chars, topics.shape[1])\n",
    "    for t in range(num_chars):\n",
    "        X = torch.tensor(output_idx[-1]).reshape((1, 1))\n",
    "#         X = torch.tensor(output).reshape((1, len(output)))\n",
    "        if use_gpu:\n",
    "            X = X.to(device)\n",
    "        if t == 0:\n",
    "            output = torch.zeros(1, hidden_dim).to(device)\n",
    "        else:\n",
    "            output = output.squeeze(0)\n",
    "        pred, output, hidden, attn_weight, coverage_vector = model.inference(inputs=X, topics=topics, output=output, hidden=hidden, coverage_vector=coverage_vector, seq_length=torch.tensor(50).reshape(1, 1).to(device))\n",
    "#         print(coverage_vector)\n",
    "        pred = pred.argmax(dim=1) # greedy strategy\n",
    "        attentions[t] = attn_weight[0].data\n",
    "#         pred = adaptive_softmax.predict(pred)\n",
    "        if pred[-1] == 2:\n",
    "#         if pred.argmax(dim=1)[-1] == 2:\n",
    "            break\n",
    "        else:\n",
    "            output_idx.append(int(pred[-1]))\n",
    "#             output.append(int(pred.argmax(dim=1)[-1]))\n",
    "    return(''.join([idx_to_word[i] for i in output_idx[1:]]), [idx_to_word[i] for i in output_idx[1:]], attentions[:t+1].t(), output_idx[1:])"
   ]
  },
  {
   "cell_type": "code",
   "execution_count": 21,
   "metadata": {},
   "outputs": [],
   "source": [
    "# nonsense\n",
    "\n",
    "# test = [1, 15, 23]\n",
    "# test = np.array(test, dtype=np.int64)\n",
    "# mm = np.float32(test != 0)\n",
    "# mm"
   ]
  },
  {
   "cell_type": "markdown",
   "metadata": {},
   "source": [
    "## Beam search strategy"
   ]
  },
  {
   "cell_type": "code",
   "execution_count": 22,
   "metadata": {},
   "outputs": [],
   "source": [
    "def beam_search(topics, num_chars, model, idx_to_word, word_to_idx, is_sample=False):\n",
    "    output_idx = [1]\n",
    "    topics = [word_to_idx[x] for x in topics]\n",
    "    topics = torch.tensor(topics)\n",
    "    topics = topics.reshape((1, topics.shape[0]))\n",
    "#     hidden = torch.zeros(num_layers, 1, hidden_dim)\n",
    "#     hidden = (torch.zeros(num_layers, 1, hidden_dim).to(device), torch.zeros(num_layers, 1, hidden_dim).to(device))\n",
    "    hidden = model.init_hidden(batch_size=1)\n",
    "    if use_gpu:\n",
    "#         hidden = hidden.cuda()\n",
    "        adaptive_softmax.to(device)\n",
    "        topics = topics.to(device)\n",
    "        seq_length = torch.tensor(50).reshape(1, 1).to(device)\n",
    "    \"\"\"1\"\"\"    \n",
    "    coverage_vector = model.init_coverage_vector(topics.shape[0], topics.shape[1])\n",
    "    attentions = torch.zeros(num_chars, topics.shape[1])\n",
    "    X = torch.tensor(output_idx[-1]).reshape((1, 1)).to(device)\n",
    "    output = torch.zeros(1, hidden_dim).to(device)\n",
    "    log_prob, output, hidden, attn_weight, coverage_vector = model.inference(inputs=X, \n",
    "                                                                   topics=topics, \n",
    "                                                                   output=output, \n",
    "                                                                   hidden=hidden, \n",
    "                                                                   coverage_vector=coverage_vector, \n",
    "                                                                   seq_length=seq_length)\n",
    "    log_prob = log_prob.cpu().detach().reshape(-1).numpy()\n",
    "#     print(log_prob[10])\n",
    "    \"\"\"2\"\"\"\n",
    "    if is_sample:\n",
    "        top_indices = np.random.choice(vocab_size, beam_size, replace=False, p=np.exp(log_prob))\n",
    "    else:\n",
    "        top_indices = np.argsort(-log_prob)\n",
    "    \"\"\"3\"\"\"\n",
    "    beams = [(0.0, [idx_to_word[1]], idx_to_word[1], torch.zeros(1, topics.shape[1]), torch.ones(1, topics.shape[1]))]\n",
    "    b = beams[0]\n",
    "    beam_candidates = []\n",
    "#     print(attn_weight[0].cpu().data, coverage_vector)\n",
    "#     assert False\n",
    "    for i in range(beam_size):\n",
    "        word_idx = top_indices[i]\n",
    "        beam_candidates.append((b[0]+log_prob[word_idx], b[1]+[idx_to_word[word_idx]], word_idx, torch.cat((b[3], attn_weight[0].cpu().data), 0), torch.cat((b[4], coverage_vector.cpu().data), 0), hidden, output.squeeze(0), coverage_vector))\n",
    "    \"\"\"4\"\"\"\n",
    "    beam_candidates.sort(key = lambda x:x[0], reverse = True) # decreasing order\n",
    "    beams = beam_candidates[:beam_size] # truncate to get new beams\n",
    "    \n",
    "    for xy in range(num_chars-1):\n",
    "        beam_candidates = []\n",
    "        for b in beams:\n",
    "            \"\"\"5\"\"\"\n",
    "            X = torch.tensor(b[2]).reshape((1, 1)).to(device)\n",
    "            \"\"\"6\"\"\"\n",
    "            log_prob, output, hidden, attn_weight, coverage_vector = model.inference(inputs=X, \n",
    "                                                                           topics=topics, \n",
    "                                                                           output=b[6], \n",
    "                                                                           hidden=b[5], \n",
    "                                                                           coverage_vector=b[7], \n",
    "                                                                           seq_length=seq_length)\n",
    "            log_prob = log_prob.cpu().detach().reshape(-1).numpy()\n",
    "            \"\"\"8\"\"\"\n",
    "            if is_sample:\n",
    "                top_indices = np.random.choice(vocab_size, beam_size, replace=False, p=np.exp(log_prob))\n",
    "            else:\n",
    "                top_indices = np.argsort(-log_prob)\n",
    "            \"\"\"9\"\"\"\n",
    "            for i in range(beam_size):\n",
    "                word_idx = top_indices[i]\n",
    "                beam_candidates.append((b[0]+log_prob[word_idx], b[1]+[idx_to_word[word_idx]], word_idx, torch.cat((b[3], attn_weight[0].cpu().data), 0), torch.cat((b[4], coverage_vector.cpu().data), 0), hidden, output.squeeze(0), coverage_vector))\n",
    "        \"\"\"10\"\"\"\n",
    "        beam_candidates.sort(key = lambda x:x[0], reverse = True) # decreasing order\n",
    "        beams = beam_candidates[:beam_size] # truncate to get new beams\n",
    "    \n",
    "    \"\"\"11\"\"\"\n",
    "    if '<EOS>' in beams[0][1]:\n",
    "        first_eos = beams[0][1].index('<EOS>')\n",
    "    else:\n",
    "        first_eos = num_chars-1\n",
    "    return(''.join(beams[0][1][:first_eos]), beams[0][1][:first_eos], beams[0][3][:first_eos].t(), beams[0][4][:first_eos])"
   ]
  },
  {
   "cell_type": "markdown",
   "metadata": {},
   "source": [
    "## Attention visualization"
   ]
  },
  {
   "cell_type": "code",
   "execution_count": 23,
   "metadata": {},
   "outputs": [],
   "source": [
    "# plt.switch_backend('agg')\n",
    "import matplotlib.pyplot as plt\n",
    "import matplotlib.ticker as ticker\n",
    "    \n",
    "def showAttention(input_sentence, output_words, attentions):\n",
    "    # Set up figure with colorbar\n",
    "    fig = plt.figure()\n",
    "    ax = fig.subplots(1)\n",
    "#     cmap = 'bone'\n",
    "    cmap = 'viridis'\n",
    "    cax = ax.matshow(attentions.numpy(), cmap=cmap)\n",
    "    fig.colorbar(cax)\n",
    "\n",
    "    # Set up axes\n",
    "    ax.set_yticklabels([''] + input_sentence.split(' '), fontproperties=fontprop, fontsize=10)\n",
    "    ax.set_xticklabels([''] + output_words, fontproperties=fontprop, fontsize=10, rotation=45)\n",
    "\n",
    "    # Show label at every tick\n",
    "    ax.xaxis.set_major_locator(ticker.MultipleLocator(1))\n",
    "    ax.yaxis.set_major_locator(ticker.MultipleLocator(1))\n",
    "    \n",
    "    word_size = 0.5\n",
    "    fig.set_figheight(word_size * len(input_sentence.split(' ')))\n",
    "    fig.set_figwidth(word_size * len(output_words))\n",
    "    plt.show()\n",
    "\n",
    "def evaluateAndShowAttention(input_sentence, method='beam_search', is_sample=False):\n",
    "    if method == 'beam_search':\n",
    "        _, output_words, attentions, coverage_vector = beam_search(input_sentence, 100, model, idx_to_word, word_to_idx, is_sample=is_sample)\n",
    "    else:\n",
    "        _, output_words, attentions, _ = predict_rnn(input_sentence, 100, model, idx_to_word, word_to_idx)\n",
    "    print('input =', ' '.join(input_sentence))\n",
    "    print('output =', ' '.join(output_words))\n",
    "#     n_digits = 3\n",
    "#     coverage_vector = torch.round(coverage_vector * 10**n_digits) / (10**n_digits)\n",
    "#     coverage_vector=np.round(coverage_vector, n_digits)\n",
    "#     print(coverage_vector.numpy())\n",
    "    showAttention(' '.join(input_sentence), output_words, attentions)"
   ]
  },
  {
   "cell_type": "markdown",
   "metadata": {},
   "source": [
    "## Bleu score calculation"
   ]
  },
  {
   "cell_type": "code",
   "execution_count": 24,
   "metadata": {},
   "outputs": [],
   "source": [
    "# !pip install nltk -i https://pypi.tuna.tsinghua.edu.cn/simple"
   ]
  },
  {
   "cell_type": "code",
   "execution_count": 25,
   "metadata": {},
   "outputs": [],
   "source": [
    "from nltk.translate.bleu_score import sentence_bleu, corpus_bleu, SmoothingFunction\n",
    "\n",
    "def evaluate_bleu(model, topics_test, corpus_test, num_test, method='beam_search', is_sample=False):\n",
    "    bleu_2_score = 0\n",
    "    for i in tqdm(range(len(corpus_test[:num_test]))):\n",
    "        if method == 'beam_search':\n",
    "            _, output_words, _, _ = beam_search([idx_to_word[x] for x in topics_test[i]], 100, model, idx_to_word, word_to_idx, is_sample)\n",
    "        else:\n",
    "            _, output_words, _, _ = predict_rnn([idx_to_word[x] for x in topics_test[i]], 100, model, idx_to_word, word_to_idx)\n",
    "        bleu_2_score += sentence_bleu([[idx_to_word[x] for x in corpus_test[i] if x not in [0, 2]]], output_words, weights=(0, 1, 0, 0))\n",
    "        \n",
    "    bleu_2_score = bleu_2_score / num_test * 100\n",
    "    return bleu_2_score"
   ]
  },
  {
   "cell_type": "markdown",
   "metadata": {},
   "source": [
    "## Some configurations"
   ]
  },
  {
   "cell_type": "code",
   "execution_count": 26,
   "metadata": {},
   "outputs": [],
   "source": [
    "embedding_dim = 100\n",
    "hidden_dim = 512\n",
    "lr = 1e-3 * 0.5\n",
    "momentum = 0.01\n",
    "num_epoch = args['target_epoch']      ### TODO: 100\n",
    "clip_value = 0.1\n",
    "use_gpu = True     # can not be False\n",
    "num_layers = 2\n",
    "bidirectional = False\n",
    "batch_size = 32\n",
    "num_keywords = 5\n",
    "verbose = 1\n",
    "check_point = 5\n",
    "beam_size = 2\n",
    "is_sample = True\n",
    "vocab_size = len(vocab)\n",
    "# device = torch.device(deviceName)\n",
    "loss_function = nn.NLLLoss()\n",
    "adaptive_softmax = nn.AdaptiveLogSoftmaxWithLoss(\n",
    "    1000, len(vocab), cutoffs=[round(vocab_size / 20), 4*round(vocab_size / 20)])"
   ]
  },
  {
   "cell_type": "code",
   "execution_count": 27,
   "metadata": {},
   "outputs": [],
   "source": [
    "# config = {\n",
    "#     \"embedding_dim\": 100, \n",
    "#     \"hidden_dim\": 512, \n",
    "#     \"batch_size\": 64, \n",
    "#     \"num_keywords\": 5, \n",
    "#     \"lr\": 1e-3 * 0.5, \n",
    "#     \"momentum\": 0.01, \n",
    "#     \"num_epoch\": 100, \n",
    "#     \"clip_value\": 1, \n",
    "#     \"use_gpu\": True, \n",
    "#     \"num_layers\": 1, \n",
    "#     \"bidirectional\": False, \n",
    "#     \"verbose\": 1, \n",
    "#     \"check_point\": 5, \n",
    "#     \"beam_size\": 2, \n",
    "#     \"is_sample\": True, \n",
    "#     \"vocab_size\": len(vocab), \n",
    "#     \"device\": torch.device(deviceName)\n",
    "# }"
   ]
  },
  {
   "cell_type": "code",
   "execution_count": 28,
   "metadata": {},
   "outputs": [],
   "source": [
    "# https://github.com/LiyuanLucasLiu/RAdam\n",
    "\n",
    "import math\n",
    "import torch\n",
    "from torch.optim.optimizer import Optimizer, required\n",
    "\n",
    "class RAdam(Optimizer):\n",
    "\n",
    "    def __init__(self, params, lr=1e-3, betas=(0.9, 0.999), eps=1e-8, weight_decay=0, degenerated_to_sgd=False):\n",
    "        if not 0.0 <= lr:\n",
    "            raise ValueError(\"Invalid learning rate: {}\".format(lr))\n",
    "        if not 0.0 <= eps:\n",
    "            raise ValueError(\"Invalid epsilon value: {}\".format(eps))\n",
    "        if not 0.0 <= betas[0] < 1.0:\n",
    "            raise ValueError(\"Invalid beta parameter at index 0: {}\".format(betas[0]))\n",
    "        if not 0.0 <= betas[1] < 1.0:\n",
    "            raise ValueError(\"Invalid beta parameter at index 1: {}\".format(betas[1]))\n",
    "        \n",
    "        self.degenerated_to_sgd = degenerated_to_sgd\n",
    "        if isinstance(params, (list, tuple)) and len(params) > 0 and isinstance(params[0], dict):\n",
    "            for param in params:\n",
    "                if 'betas' in param and (param['betas'][0] != betas[0] or param['betas'][1] != betas[1]):\n",
    "                    param['buffer'] = [[None, None, None] for _ in range(10)]\n",
    "        defaults = dict(lr=lr, betas=betas, eps=eps, weight_decay=weight_decay, buffer=[[None, None, None] for _ in range(10)])\n",
    "        super(RAdam, self).__init__(params, defaults)\n",
    "\n",
    "    def __setstate__(self, state):\n",
    "        super(RAdam, self).__setstate__(state)\n",
    "\n",
    "    def step(self, closure=None):\n",
    "\n",
    "        loss = None\n",
    "        if closure is not None:\n",
    "            loss = closure()\n",
    "\n",
    "        for group in self.param_groups:\n",
    "\n",
    "            for p in group['params']:\n",
    "                if p.grad is None:\n",
    "                    continue\n",
    "                grad = p.grad.data.float()\n",
    "                if grad.is_sparse:\n",
    "                    raise RuntimeError('RAdam does not support sparse gradients')\n",
    "\n",
    "                p_data_fp32 = p.data.float()\n",
    "\n",
    "                state = self.state[p]\n",
    "\n",
    "                if len(state) == 0:\n",
    "                    state['step'] = 0\n",
    "                    state['exp_avg'] = torch.zeros_like(p_data_fp32)\n",
    "                    state['exp_avg_sq'] = torch.zeros_like(p_data_fp32)\n",
    "                else:\n",
    "                    state['exp_avg'] = state['exp_avg'].type_as(p_data_fp32)\n",
    "                    state['exp_avg_sq'] = state['exp_avg_sq'].type_as(p_data_fp32)\n",
    "\n",
    "                exp_avg, exp_avg_sq = state['exp_avg'], state['exp_avg_sq']\n",
    "                beta1, beta2 = group['betas']\n",
    "\n",
    "                exp_avg_sq.mul_(beta2).addcmul_(1 - beta2, grad, grad)\n",
    "                exp_avg.mul_(beta1).add_(1 - beta1, grad)\n",
    "\n",
    "                state['step'] += 1\n",
    "                buffered = group['buffer'][int(state['step'] % 10)]\n",
    "                if state['step'] == buffered[0]:\n",
    "                    N_sma, step_size = buffered[1], buffered[2]\n",
    "                else:\n",
    "                    buffered[0] = state['step']\n",
    "                    beta2_t = beta2 ** state['step']\n",
    "                    N_sma_max = 2 / (1 - beta2) - 1\n",
    "                    N_sma = N_sma_max - 2 * state['step'] * beta2_t / (1 - beta2_t)\n",
    "                    buffered[1] = N_sma\n",
    "\n",
    "                    # more conservative since it's an approximated value\n",
    "                    if N_sma >= 5:\n",
    "                        step_size = math.sqrt((1 - beta2_t) * (N_sma - 4) / (N_sma_max - 4) * (N_sma - 2) / N_sma * N_sma_max / (N_sma_max - 2)) / (1 - beta1 ** state['step'])\n",
    "                    elif self.degenerated_to_sgd:\n",
    "                        step_size = 1.0 / (1 - beta1 ** state['step'])\n",
    "                    else:\n",
    "                        step_size = -1\n",
    "                    buffered[2] = step_size\n",
    "\n",
    "                # more conservative since it's an approximated value\n",
    "                if N_sma >= 5:\n",
    "                    if group['weight_decay'] != 0:\n",
    "                        p_data_fp32.add_(-group['weight_decay'] * group['lr'], p_data_fp32)\n",
    "                    denom = exp_avg_sq.sqrt().add_(group['eps'])\n",
    "                    p_data_fp32.addcdiv_(-step_size * group['lr'], exp_avg, denom)\n",
    "                    p.data.copy_(p_data_fp32)\n",
    "                elif step_size > 0:\n",
    "                    if group['weight_decay'] != 0:\n",
    "                        p_data_fp32.add_(-group['weight_decay'] * group['lr'], p_data_fp32)\n",
    "                    p_data_fp32.add_(-step_size * group['lr'], exp_avg)\n",
    "                    p.data.copy_(p_data_fp32)\n",
    "\n",
    "        return loss\n",
    "\n",
    "class PlainRAdam(Optimizer):\n",
    "\n",
    "    def __init__(self, params, lr=1e-3, betas=(0.9, 0.999), eps=1e-8, weight_decay=0, degenerated_to_sgd=False):\n",
    "        if not 0.0 <= lr:\n",
    "            raise ValueError(\"Invalid learning rate: {}\".format(lr))\n",
    "        if not 0.0 <= eps:\n",
    "            raise ValueError(\"Invalid epsilon value: {}\".format(eps))\n",
    "        if not 0.0 <= betas[0] < 1.0:\n",
    "            raise ValueError(\"Invalid beta parameter at index 0: {}\".format(betas[0]))\n",
    "        if not 0.0 <= betas[1] < 1.0:\n",
    "            raise ValueError(\"Invalid beta parameter at index 1: {}\".format(betas[1]))\n",
    "                    \n",
    "        self.degenerated_to_sgd = degenerated_to_sgd\n",
    "        defaults = dict(lr=lr, betas=betas, eps=eps, weight_decay=weight_decay)\n",
    "\n",
    "        super(PlainRAdam, self).__init__(params, defaults)\n",
    "\n",
    "    def __setstate__(self, state):\n",
    "        super(PlainRAdam, self).__setstate__(state)\n",
    "\n",
    "    def step(self, closure=None):\n",
    "\n",
    "        loss = None\n",
    "        if closure is not None:\n",
    "            loss = closure()\n",
    "\n",
    "        for group in self.param_groups:\n",
    "\n",
    "            for p in group['params']:\n",
    "                if p.grad is None:\n",
    "                    continue\n",
    "                grad = p.grad.data.float()\n",
    "                if grad.is_sparse:\n",
    "                    raise RuntimeError('RAdam does not support sparse gradients')\n",
    "\n",
    "                p_data_fp32 = p.data.float()\n",
    "\n",
    "                state = self.state[p]\n",
    "\n",
    "                if len(state) == 0:\n",
    "                    state['step'] = 0\n",
    "                    state['exp_avg'] = torch.zeros_like(p_data_fp32)\n",
    "                    state['exp_avg_sq'] = torch.zeros_like(p_data_fp32)\n",
    "                else:\n",
    "                    state['exp_avg'] = state['exp_avg'].type_as(p_data_fp32)\n",
    "                    state['exp_avg_sq'] = state['exp_avg_sq'].type_as(p_data_fp32)\n",
    "\n",
    "                exp_avg, exp_avg_sq = state['exp_avg'], state['exp_avg_sq']\n",
    "                beta1, beta2 = group['betas']\n",
    "\n",
    "                exp_avg_sq.mul_(beta2).addcmul_(1 - beta2, grad, grad)\n",
    "                exp_avg.mul_(beta1).add_(1 - beta1, grad)\n",
    "\n",
    "                state['step'] += 1\n",
    "                beta2_t = beta2 ** state['step']\n",
    "                N_sma_max = 2 / (1 - beta2) - 1\n",
    "                N_sma = N_sma_max - 2 * state['step'] * beta2_t / (1 - beta2_t)\n",
    "\n",
    "\n",
    "                # more conservative since it's an approximated value\n",
    "                if N_sma >= 5:\n",
    "                    if group['weight_decay'] != 0:\n",
    "                        p_data_fp32.add_(-group['weight_decay'] * group['lr'], p_data_fp32)\n",
    "                    step_size = group['lr'] * math.sqrt((1 - beta2_t) * (N_sma - 4) / (N_sma_max - 4) * (N_sma - 2) / N_sma * N_sma_max / (N_sma_max - 2)) / (1 - beta1 ** state['step'])\n",
    "                    denom = exp_avg_sq.sqrt().add_(group['eps'])\n",
    "                    p_data_fp32.addcdiv_(-step_size, exp_avg, denom)\n",
    "                    p.data.copy_(p_data_fp32)\n",
    "                elif self.degenerated_to_sgd:\n",
    "                    if group['weight_decay'] != 0:\n",
    "                        p_data_fp32.add_(-group['weight_decay'] * group['lr'], p_data_fp32)\n",
    "                    step_size = group['lr'] / (1 - beta1 ** state['step'])\n",
    "                    p_data_fp32.add_(-step_size, exp_avg)\n",
    "                    p.data.copy_(p_data_fp32)\n",
    "\n",
    "        return loss\n",
    "\n",
    "\n",
    "class AdamW(Optimizer):\n",
    "\n",
    "    def __init__(self, params, lr=1e-3, betas=(0.9, 0.999), eps=1e-8, weight_decay=0, warmup = 0):\n",
    "        if not 0.0 <= lr:\n",
    "            raise ValueError(\"Invalid learning rate: {}\".format(lr))\n",
    "        if not 0.0 <= eps:\n",
    "            raise ValueError(\"Invalid epsilon value: {}\".format(eps))\n",
    "        if not 0.0 <= betas[0] < 1.0:\n",
    "            raise ValueError(\"Invalid beta parameter at index 0: {}\".format(betas[0]))\n",
    "        if not 0.0 <= betas[1] < 1.0:\n",
    "            raise ValueError(\"Invalid beta parameter at index 1: {}\".format(betas[1]))\n",
    "        \n",
    "        defaults = dict(lr=lr, betas=betas, eps=eps,\n",
    "                        weight_decay=weight_decay, warmup = warmup)\n",
    "        super(AdamW, self).__init__(params, defaults)\n",
    "\n",
    "    def __setstate__(self, state):\n",
    "        super(AdamW, self).__setstate__(state)\n",
    "\n",
    "    def step(self, closure=None):\n",
    "        loss = None\n",
    "        if closure is not None:\n",
    "            loss = closure()\n",
    "\n",
    "        for group in self.param_groups:\n",
    "\n",
    "            for p in group['params']:\n",
    "                if p.grad is None:\n",
    "                    continue\n",
    "                grad = p.grad.data.float()\n",
    "                if grad.is_sparse:\n",
    "                    raise RuntimeError('Adam does not support sparse gradients, please consider SparseAdam instead')\n",
    "\n",
    "                p_data_fp32 = p.data.float()\n",
    "\n",
    "                state = self.state[p]\n",
    "\n",
    "                if len(state) == 0:\n",
    "                    state['step'] = 0\n",
    "                    state['exp_avg'] = torch.zeros_like(p_data_fp32)\n",
    "                    state['exp_avg_sq'] = torch.zeros_like(p_data_fp32)\n",
    "                else:\n",
    "                    state['exp_avg'] = state['exp_avg'].type_as(p_data_fp32)\n",
    "                    state['exp_avg_sq'] = state['exp_avg_sq'].type_as(p_data_fp32)\n",
    "\n",
    "                exp_avg, exp_avg_sq = state['exp_avg'], state['exp_avg_sq']\n",
    "                beta1, beta2 = group['betas']\n",
    "\n",
    "                state['step'] += 1\n",
    "\n",
    "                exp_avg_sq.mul_(beta2).addcmul_(1 - beta2, grad, grad)\n",
    "                exp_avg.mul_(beta1).add_(1 - beta1, grad)\n",
    "\n",
    "                denom = exp_avg_sq.sqrt().add_(group['eps'])\n",
    "                bias_correction1 = 1 - beta1 ** state['step']\n",
    "                bias_correction2 = 1 - beta2 ** state['step']\n",
    "                \n",
    "                if group['warmup'] > state['step']:\n",
    "                    scheduled_lr = 1e-8 + state['step'] * group['lr'] / group['warmup']\n",
    "                else:\n",
    "                    scheduled_lr = group['lr']\n",
    "\n",
    "                step_size = scheduled_lr * math.sqrt(bias_correction2) / bias_correction1\n",
    "                \n",
    "                if group['weight_decay'] != 0:\n",
    "                    p_data_fp32.add_(-group['weight_decay'] * scheduled_lr, p_data_fp32)\n",
    "\n",
    "                p_data_fp32.addcdiv_(-step_size, exp_avg, denom)\n",
    "\n",
    "                p.data.copy_(p_data_fp32)\n",
    "\n",
    "        return loss"
   ]
  },
  {
   "cell_type": "code",
   "execution_count": 29,
   "metadata": {},
   "outputs": [
    {
     "name": "stdout",
     "output_type": "stream",
     "text": [
      "Dump to cpu\n"
     ]
    }
   ],
   "source": [
    "model = MTALSTM(hidden_dim=hidden_dim, embed_dim=embedding_dim, num_keywords=num_keywords, \n",
    "                num_layers=num_layers, num_labels=len(vocab), weight=word_vec, bidirectional=bidirectional)\n",
    "# optimizer = optim.SGD(model.parameters(), lr=lr, momentum=momentum)\n",
    "# optimizer = optim.Adam(model.parameters(), lr=lr)\n",
    "\n",
    "# from radam import RAdam\n",
    "optimizer = RAdam(model.parameters(), lr=lr)\n",
    "lr_scheduler = ReduceLROnPlateau(optimizer, mode='min', factor=0.4, patience=2, min_lr=1e-7, verbose=True)\n",
    "# optimizer = optim.Adadelta(model.parameters(), lr=lr)\n",
    "if use_gpu:\n",
    "#     model = nn.DataParallel(model)\n",
    "#     model = model.to(device)\n",
    "    model = model.to(device)\n",
    "    print(f\"Dump to {device}\")"
   ]
  },
  {
   "cell_type": "code",
   "execution_count": 30,
   "metadata": {
    "scrolled": true
   },
   "outputs": [
    {
     "data": {
      "text/plain": [
       "MTALSTM(\n",
       "  (embedding): Embedding(189613, 100)\n",
       "  (Uf): Linear(in_features=500, out_features=5, bias=False)\n",
       "  (decoder): AttentionDecoder(\n",
       "    (attention): Attention(\n",
       "      (Ua): Linear(in_features=100, out_features=512, bias=False)\n",
       "      (Wa): Linear(in_features=512, out_features=512, bias=False)\n",
       "      (va): Linear(in_features=512, out_features=1, bias=True)\n",
       "    )\n",
       "    (rnn): LSTM(200, 512, num_layers=2, dropout=0.5)\n",
       "  )\n",
       "  (adaptiveSoftmax): AdaptiveLogSoftmaxWithLoss(\n",
       "    (head): Linear(in_features=512, out_features=9483, bias=False)\n",
       "    (tail): ModuleList(\n",
       "      (0): Sequential(\n",
       "        (0): Linear(in_features=512, out_features=128, bias=False)\n",
       "        (1): Linear(in_features=128, out_features=28443, bias=False)\n",
       "      )\n",
       "      (1): Sequential(\n",
       "        (0): Linear(in_features=512, out_features=32, bias=False)\n",
       "        (1): Linear(in_features=32, out_features=151689, bias=False)\n",
       "      )\n",
       "    )\n",
       "  )\n",
       ")"
      ]
     },
     "execution_count": 30,
     "metadata": {},
     "output_type": "execute_result"
    }
   ],
   "source": [
    "def params_init_uniform(m):\n",
    "    if type(m) == nn.Linear:\n",
    "        y = 0.04\n",
    "        nn.init.uniform_(m.weight, -y, y)\n",
    "        \n",
    "model.apply(params_init_uniform)"
   ]
  },
  {
   "cell_type": "markdown",
   "metadata": {},
   "source": [
    "## Load previous checkpoint"
   ]
  },
  {
   "cell_type": "code",
   "execution_count": 31,
   "metadata": {},
   "outputs": [
    {
     "name": "stdout",
     "output_type": "stream",
     "text": [
      "Loading previous status (ver.small_45)...\n",
      "Load successfully\n"
     ]
    }
   ],
   "source": [
    "version_name = args['checkpoint_version_name']      ### TODO\n",
    "version_epoch_num = args['checkpoint_epoch']      ### TODO\n",
    "Type = args['checkpoint_type']          ### TODO\n",
    "# Type = 'best'\n",
    "\n",
    "def check_point_path(obj_name, save_folder, Type, version_name, epoch_num):\n",
    "    return f'{save_folder}/{version_name}_{epoch_num}_{Type}_{obj_name}.pt'\n",
    "\n",
    "# model_check_point = '%s/model_%s_%d.pk' % (save_folder, Type, version_num)\n",
    "# optim_check_point = '%s/optim_%s_%d.pkl' % (save_folder, Type, version_num)\n",
    "# loss_check_point = '%s/loss_%s_%d.pkl' % (save_folder, Type, version_num)\n",
    "# epoch_check_point = '%s/epoch_%s_%d.pkl' % (save_folder, Type, version_num)\n",
    "# bleu_check_point = '%s/bleu_%s_%d.pkl' % (save_folder, Type, version_num)\n",
    "\n",
    "model_check_point = check_point_path('model', save_folder, Type, version_name, version_epoch_num)\n",
    "optim_check_point = check_point_path('optim', save_folder, Type, version_name, version_epoch_num)\n",
    "loss_check_point = check_point_path('loss', save_folder, Type, version_name, version_epoch_num)\n",
    "epoch_check_point = check_point_path('epoch', save_folder, Type, version_name, version_epoch_num)\n",
    "bleu_check_point = check_point_path('bleu', save_folder, Type, version_name, version_epoch_num)\n",
    "\n",
    "loss_values = []\n",
    "epoch_values = []\n",
    "bleu_values = []\n",
    "\n",
    "if os.path.isfile(model_check_point):\n",
    "    print(f'Loading previous status (ver.{version_name}_{version_epoch_num})...')\n",
    "    model.load_state_dict(torch.load(model_check_point, map_location='cpu'))\n",
    "    model = model.to(device)\n",
    "    optimizer.load_state_dict(torch.load(optim_check_point))\n",
    "    lr_scheduler = ReduceLROnPlateau(optimizer, mode='min', factor=0.4, patience=2, min_lr=1e-7, verbose=True)\n",
    "    loss_values = torch.load(loss_check_point)\n",
    "    epoch_values = torch.load(epoch_check_point)\n",
    "    bleu_values = torch.load(bleu_check_point)\n",
    "    print('Load successfully')\n",
    "else:\n",
    "    print(f\"ver.{version_name}_{version_epoch_num} doesn't exist\")"
   ]
  },
  {
   "cell_type": "code",
   "execution_count": 32,
   "metadata": {},
   "outputs": [
    {
     "name": "stdout",
     "output_type": "stream",
     "text": [
      "input = 现在 未来 梦想 科学 文化\n",
      "output = <BOS> 这 是 我 的 学校 ， 是 祖国 ， 我 真 希望 对 我 的 希望 ， 在 我 的 家乡 — — 中国 梦 。 我 也 像 一个 “ 隐形 ” ， 因为 我 是 一名 科学家 的 梦想 ， 我 更 庆幸 我 的 视野 之 旅 ！\n"
     ]
    },
    {
     "name": "stderr",
     "output_type": "stream",
     "text": [
      "<ipython-input-23-54bdfb19faf5>:15: UserWarning: FixedFormatter should only be used together with FixedLocator\n",
      "  ax.set_yticklabels([''] + input_sentence.split(' '), fontproperties=fontprop, fontsize=10)\n",
      "<ipython-input-23-54bdfb19faf5>:16: UserWarning: FixedFormatter should only be used together with FixedLocator\n",
      "  ax.set_xticklabels([''] + output_words, fontproperties=fontprop, fontsize=10, rotation=45)\n"
     ]
    },
    {
     "data": {
      "image/png": "[encoded data removed]",
      "text/plain": [
       "<Figure size 1872x180 with 2 Axes>"
      ]
     },
     "metadata": {
      "needs_background": "light"
     },
     "output_type": "display_data"
    }
   ],
   "source": [
    "evaluateAndShowAttention(['现在', '未来', '梦想', '科学', '文化'], method='beam_search', is_sample=True)"
   ]
  },
  {
   "cell_type": "code",
   "execution_count": 33,
   "metadata": {
    "scrolled": true
   },
   "outputs": [
    {
     "name": "stdout",
     "output_type": "stream",
     "text": [
      "Uf.weight Parameter containing:\n",
      "tensor([[-0.0411, -0.0628,  0.1448,  ...,  0.0119,  0.0138, -0.0233],\n",
      "        [-0.0109, -0.0394, -0.1695,  ...,  0.0130, -0.0101,  0.0497],\n",
      "        [-0.0218, -0.0427,  0.0306,  ..., -0.0388, -0.0917, -0.0111],\n",
      "        [-0.0973,  0.0509, -0.0956,  ...,  0.1699,  0.0793,  0.0927],\n",
      "        [-0.0152,  0.0195, -0.0728,  ...,  0.0160, -0.0602,  0.2743]],\n",
      "       requires_grad=True)\n",
      "decoder.attention.Ua.weight Parameter containing:\n",
      "tensor([[-0.0048,  0.0455, -0.0227,  ..., -0.0078, -0.0021,  0.0086],\n",
      "        [ 0.0109,  0.0187, -0.0281,  ...,  0.0328,  0.0062,  0.0337],\n",
      "        [-0.0499,  0.0123, -0.0218,  ...,  0.0808,  0.0644,  0.0982],\n",
      "        ...,\n",
      "        [ 0.0503, -0.0111, -0.0454,  ...,  0.0172, -0.0555, -0.0233],\n",
      "        [-0.0803,  0.0741, -0.0429,  ...,  0.0432,  0.0719,  0.0737],\n",
      "        [-0.0322, -0.0293,  0.0256,  ...,  0.0198,  0.0408,  0.0479]],\n",
      "       requires_grad=True)\n",
      "decoder.attention.Wa.weight Parameter containing:\n",
      "tensor([[-0.0425, -0.1076,  0.0468,  ..., -0.0558,  0.0578,  0.0574],\n",
      "        [ 0.0031,  0.0338,  0.0089,  ...,  0.0658, -0.0371,  0.0465],\n",
      "        [ 0.0245, -0.0282, -0.0470,  ..., -0.0571,  0.0139, -0.0294],\n",
      "        ...,\n",
      "        [-0.0562,  0.0725, -0.0227,  ...,  0.1727, -0.0243, -0.0268],\n",
      "        [ 0.0629, -0.0967, -0.0276,  ..., -0.0086,  0.0725,  0.0026],\n",
      "        [-0.0133,  0.0263, -0.0502,  ..., -0.0184, -0.0501, -0.0126]],\n",
      "       requires_grad=True)\n",
      "decoder.attention.va.weight Parameter containing:\n",
      "tensor([[ 0.1424, -0.1713, -0.0850,  0.1890, -0.1186, -0.1143,  0.1774, -0.1910,\n",
      "          0.0928, -0.1111,  0.1948, -0.1219, -0.1647,  0.1174, -0.0494, -0.1726,\n",
      "         -0.0948,  0.1087,  0.1428, -0.1023, -0.1092, -0.1104,  0.1367,  0.0071,\n",
      "         -0.1129,  0.1326, -0.1318, -0.0162, -0.1699, -0.1215, -0.1313, -0.1256,\n",
      "          0.0249,  0.1230,  0.0662,  0.1791,  0.2062,  0.1272, -0.0884,  0.1047,\n",
      "          0.1009, -0.1112,  0.1213,  0.1237, -0.1584, -0.0044,  0.1197, -0.0420,\n",
      "         -0.0876, -0.1094, -0.0673,  0.1635, -0.1300,  0.1273, -0.1183, -0.1233,\n",
      "          0.0240,  0.1826, -0.0568,  0.0041, -0.1040,  0.1527,  0.1397,  0.1038,\n",
      "         -0.0106, -0.0167, -0.1895, -0.1778,  0.0877,  0.1226, -0.0235,  0.1148,\n",
      "         -0.1124,  0.0717,  0.0072, -0.1754,  0.1153, -0.0947, -0.0087,  0.1921,\n",
      "          0.0371,  0.1207,  0.1265, -0.0474, -0.0757, -0.1073, -0.0992,  0.0197,\n",
      "          0.0777,  0.1455,  0.1169,  0.0033,  0.0015, -0.0745,  0.1236,  0.1107,\n",
      "         -0.0338, -0.0927,  0.1298, -0.1005, -0.1616, -0.1439,  0.1208, -0.1011,\n",
      "          0.0020,  0.0994, -0.0824, -0.1104, -0.0137,  0.0909, -0.2214, -0.1209,\n",
      "         -0.0960,  0.0927,  0.0475,  0.0964, -0.1769, -0.0753,  0.1107,  0.1019,\n",
      "          0.1271, -0.1669, -0.1394,  0.0541,  0.1266,  0.0206,  0.0713, -0.1888,\n",
      "          0.1189, -0.0765, -0.1195,  0.1135, -0.1827,  0.1579,  0.0465, -0.1902,\n",
      "          0.1380, -0.2032, -0.1363,  0.0672,  0.0366, -0.0295, -0.1113,  0.1672,\n",
      "         -0.0700,  0.1182,  0.1907, -0.0857,  0.0228, -0.2002,  0.1442,  0.0843,\n",
      "          0.0067,  0.1717,  0.1712,  0.0955, -0.1708,  0.1017, -0.1090, -0.1431,\n",
      "          0.0059,  0.1023,  0.0989,  0.1284,  0.1974, -0.1273,  0.1263,  0.1395,\n",
      "         -0.1362, -0.1907, -0.1381, -0.1217,  0.0800, -0.1480,  0.0083,  0.0992,\n",
      "          0.0906, -0.1157, -0.1714,  0.1712, -0.1478,  0.1396,  0.1070, -0.1411,\n",
      "          0.0004,  0.1792,  0.0900,  0.0254,  0.1516,  0.0963, -0.1158, -0.0200,\n",
      "         -0.0260,  0.1223, -0.2067, -0.1783,  0.1194,  0.1089, -0.0245,  0.1362,\n",
      "         -0.0113,  0.0022,  0.0011,  0.1544, -0.1393,  0.1195,  0.1300, -0.0524,\n",
      "         -0.0961, -0.0346, -0.1792,  0.0328, -0.1281, -0.0691, -0.0966,  0.0100,\n",
      "          0.0011,  0.0160, -0.0074,  0.1875, -0.1006,  0.0538, -0.0936,  0.1328,\n",
      "         -0.0627, -0.0809, -0.1044,  0.1244,  0.0575,  0.0480, -0.1665,  0.1320,\n",
      "          0.0971,  0.1164,  0.0235, -0.1997, -0.1111,  0.0866, -0.1771,  0.0144,\n",
      "         -0.0058,  0.1435, -0.0828, -0.0917,  0.1761,  0.0982, -0.1880, -0.1299,\n",
      "         -0.0717, -0.0533, -0.1228,  0.1345,  0.0254, -0.0873, -0.0339,  0.1274,\n",
      "         -0.1468,  0.0943,  0.1946,  0.1226,  0.1119, -0.1964,  0.1106,  0.1310,\n",
      "         -0.1952,  0.1863,  0.1285,  0.1638,  0.1528, -0.1620,  0.1539, -0.1439,\n",
      "         -0.1101, -0.1016, -0.0957,  0.0809, -0.1832,  0.1034, -0.1230,  0.2005,\n",
      "          0.0973,  0.0277, -0.1597,  0.0843, -0.1422,  0.1130, -0.1640, -0.0988,\n",
      "          0.0074,  0.2012,  0.1897,  0.0294, -0.2082, -0.0957,  0.1756,  0.1336,\n",
      "          0.1938,  0.0832, -0.1975, -0.1184,  0.1169, -0.0051,  0.1092,  0.1580,\n",
      "          0.1366, -0.1007,  0.1570, -0.0986,  0.0728,  0.1892,  0.0987, -0.2080,\n",
      "         -0.0070, -0.0020,  0.1711, -0.1184, -0.0824, -0.1207,  0.1432, -0.0564,\n",
      "         -0.2074,  0.1010,  0.0928,  0.0479,  0.0245,  0.0012,  0.0253, -0.0535,\n",
      "          0.1151, -0.0933, -0.1225,  0.1996, -0.1663,  0.1980,  0.0823, -0.2025,\n",
      "          0.0174, -0.2144, -0.2025, -0.1129,  0.0946,  0.1895,  0.1746,  0.0724,\n",
      "          0.1931, -0.1427, -0.1076, -0.1048, -0.1371, -0.1200,  0.1522, -0.0898,\n",
      "         -0.0585,  0.0877, -0.0879,  0.1304,  0.1540, -0.1239,  0.1159,  0.0770,\n",
      "          0.1711,  0.0877,  0.1086, -0.1208, -0.1092, -0.0985, -0.1720,  0.1236,\n",
      "         -0.1864, -0.1697, -0.1334,  0.1527, -0.0386,  0.1488, -0.0610,  0.0237,\n",
      "         -0.0003,  0.1499,  0.1838, -0.1338,  0.2064,  0.1583,  0.0967, -0.1737,\n",
      "         -0.0704,  0.1342,  0.0146, -0.1463, -0.0730, -0.1196, -0.1070,  0.1556,\n",
      "         -0.0104, -0.1589,  0.0987, -0.0946,  0.0848, -0.1528, -0.1234,  0.1532,\n",
      "         -0.0896, -0.1800, -0.1569,  0.0773,  0.1418, -0.1544, -0.1280,  0.0861,\n",
      "          0.1264,  0.1696, -0.1778,  0.1244, -0.0133,  0.0631,  0.0978, -0.0600,\n",
      "          0.0957,  0.1016, -0.0841,  0.0856, -0.0284,  0.1646, -0.1485, -0.0803,\n",
      "         -0.1534,  0.0569,  0.1996,  0.1268,  0.1877,  0.1466, -0.1679,  0.0326,\n",
      "          0.1178, -0.0823, -0.1135,  0.0919,  0.0725, -0.1451,  0.0112, -0.0835,\n",
      "          0.1468, -0.1281,  0.1237,  0.0888,  0.0047,  0.0390, -0.1121,  0.1004,\n",
      "          0.0566,  0.1030, -0.2129,  0.0108,  0.1731,  0.1854,  0.1710,  0.0209,\n",
      "         -0.1096,  0.1167, -0.0940, -0.0307,  0.1783, -0.0642, -0.1059, -0.1815,\n",
      "          0.1593,  0.1053, -0.1740, -0.1031,  0.0749,  0.1010,  0.1706, -0.1162,\n",
      "          0.1226, -0.0424,  0.1940, -0.1224,  0.1458, -0.1158,  0.0939, -0.1947,\n",
      "         -0.0005, -0.0972, -0.1206,  0.0955, -0.1405, -0.1284,  0.1060, -0.1901,\n",
      "          0.0675, -0.1766, -0.1174, -0.0698,  0.1601,  0.1232,  0.0554, -0.1393,\n",
      "         -0.1510, -0.1020, -0.0479,  0.1601, -0.1604,  0.1222, -0.1237,  0.0327,\n",
      "         -0.1210,  0.1163,  0.1023, -0.1490,  0.2053,  0.0848, -0.0915, -0.1722]],\n",
      "       requires_grad=True)\n",
      "decoder.attention.va.bias Parameter containing:\n",
      "tensor([0.1515], requires_grad=True)\n",
      "decoder.rnn.weight_ih_l0 Parameter containing:\n",
      "tensor([[-0.0427, -0.0324,  0.1612,  ..., -0.0951,  0.0968, -0.1551],\n",
      "        [-0.0834,  0.0370, -0.1473,  ..., -0.0792,  0.0386, -0.1513],\n",
      "        [-0.2791, -0.1117, -0.0798,  ...,  0.1269, -0.1023, -0.0479],\n",
      "        ...,\n",
      "        [ 0.1643,  0.5288, -0.0555,  ..., -0.0659, -0.0237,  0.0734],\n",
      "        [-0.3364, -0.1498,  0.1163,  ..., -0.0225,  0.0962,  0.0535],\n",
      "        [-0.2794, -0.5481,  0.3051,  ..., -0.0030,  0.0368, -0.1527]],\n",
      "       requires_grad=True)\n",
      "decoder.rnn.weight_hh_l0 Parameter containing:\n",
      "tensor([[-0.0246,  0.0384, -0.1997,  ..., -0.0782, -0.0363, -0.0007],\n",
      "        [ 0.0524,  0.1236, -0.0066,  ..., -0.1049,  0.0821, -0.0484],\n",
      "        [-0.0450,  0.1356,  0.1194,  ..., -0.0725,  0.0506, -0.0570],\n",
      "        ...,\n",
      "        [ 0.1995,  0.0425, -0.0852,  ..., -0.0431, -0.0855, -0.0102],\n",
      "        [-0.0006,  0.0059, -0.0700,  ...,  0.1070, -0.0572, -0.2465],\n",
      "        [ 0.0216,  0.0441, -0.0521,  ..., -0.1208, -0.0933, -0.1024]],\n",
      "       requires_grad=True)\n",
      "decoder.rnn.bias_ih_l0 Parameter containing:\n",
      "tensor([0.1019, 0.0466, 0.0695,  ..., 0.0470, 0.0792, 0.0668],\n",
      "       requires_grad=True)\n",
      "decoder.rnn.bias_hh_l0 Parameter containing:\n",
      "tensor([ 0.1243,  0.0604,  0.1482,  ...,  0.0736,  0.1141, -0.0205],\n",
      "       requires_grad=True)\n",
      "decoder.rnn.weight_ih_l1 Parameter containing:\n",
      "tensor([[ 1.3528e-01,  9.5500e-03,  1.0236e-01,  ...,  7.8569e-02,\n",
      "          6.2730e-02,  1.5021e-01],\n",
      "        [-1.5589e-01,  4.7724e-02,  1.7251e-01,  ...,  1.3380e-02,\n",
      "          3.0688e-02, -1.3992e-01],\n",
      "        [-3.9483e-02,  1.5981e-01, -9.9046e-03,  ...,  7.2530e-02,\n",
      "          5.4445e-02,  3.5786e-02],\n",
      "        ...,\n",
      "        [-9.0055e-02,  1.7073e-01, -1.6213e-01,  ..., -2.5892e-01,\n",
      "         -1.5377e-02,  3.3830e-03],\n",
      "        [-1.2651e-01, -8.8891e-03,  1.5330e-01,  ...,  2.9422e-02,\n",
      "          1.8992e-01, -1.4910e-01],\n",
      "        [-1.2115e-04,  1.1911e-01, -6.7813e-02,  ..., -2.3290e-01,\n",
      "          2.2851e-01, -4.6630e-02]], requires_grad=True)\n",
      "decoder.rnn.weight_hh_l1 Parameter containing:\n",
      "tensor([[-1.3267e-01, -9.7699e-03, -6.3147e-03,  ...,  7.2645e-04,\n",
      "         -1.9433e-02,  2.5650e-02],\n",
      "        [ 3.8262e-02, -1.0443e-02,  9.6047e-04,  ...,  4.1833e-03,\n",
      "          2.0624e-03,  7.7691e-02],\n",
      "        [-5.4214e-02, -1.6529e-03,  6.8097e-02,  ..., -1.0559e-03,\n",
      "          3.5431e-03, -1.8290e-02],\n",
      "        ...,\n",
      "        [-1.4904e-01,  1.8474e-02, -6.6396e-02,  ..., -1.4956e-01,\n",
      "          1.6916e-01,  1.3875e-01],\n",
      "        [ 6.7489e-02, -2.6407e-02, -6.2470e-02,  ..., -9.3108e-02,\n",
      "         -3.4249e-02, -1.5553e-01],\n",
      "        [ 2.3261e-02,  9.5587e-04, -1.1163e-01,  ...,  7.3634e-02,\n",
      "          6.1048e-05,  1.3414e-02]], requires_grad=True)\n",
      "decoder.rnn.bias_ih_l1 Parameter containing:\n",
      "tensor([0.0118, 0.0046, 0.1485,  ..., 0.0898, 0.1137, 0.0343],\n",
      "       requires_grad=True)\n",
      "decoder.rnn.bias_hh_l1 Parameter containing:\n",
      "tensor([ 0.0701, -0.0153,  0.0792,  ...,  0.0853,  0.0777,  0.0524],\n",
      "       requires_grad=True)\n",
      "adaptiveSoftmax.head.weight Parameter containing:\n",
      "tensor([[ 0.4681, -0.0791,  0.1753,  ..., -0.1000,  0.2427,  0.0693],\n",
      "        [ 0.1290,  0.0784, -0.0890,  ..., -0.0640, -0.0813, -0.1625],\n",
      "        [ 0.1095,  0.0576, -0.1148,  ..., -0.0254,  0.0323, -0.1307],\n",
      "        ...,\n",
      "        [ 0.1775,  0.0523, -0.1522,  ..., -0.2547,  0.2112,  0.2872],\n",
      "        [-0.0951, -0.0087,  0.1350,  ...,  0.0469,  0.1936,  0.0155],\n",
      "        [-0.0409, -0.0277,  0.1849,  ...,  0.0731,  0.2049,  0.0034]],\n",
      "       requires_grad=True)\n",
      "adaptiveSoftmax.tail.0.0.weight Parameter containing:\n",
      "tensor([[-0.1998,  0.9995, -0.0840,  ..., -0.0982,  0.0658,  0.0159],\n",
      "        [ 0.0748, -0.1536, -0.1363,  ...,  0.0764, -0.0580,  0.0140],\n",
      "        [ 0.1311,  0.4334, -0.1041,  ...,  0.1662, -0.0793,  0.0681],\n",
      "        ...,\n",
      "        [ 0.0538,  0.4370, -0.1672,  ...,  0.0886, -0.0096, -0.0402],\n",
      "        [-0.1294, -0.2350, -0.2167,  ..., -0.0234, -0.0956,  0.1421],\n",
      "        [ 0.0948, -0.1085,  0.0267,  ...,  0.0057, -0.0546, -0.1431]],\n",
      "       requires_grad=True)\n",
      "adaptiveSoftmax.tail.0.1.weight Parameter containing:\n",
      "tensor([[ 0.0574, -0.0265, -0.0396,  ..., -0.1490,  0.0422, -0.0248],\n",
      "        [ 0.0300, -0.1441, -0.0080,  ...,  0.1255, -0.0950,  0.4116],\n",
      "        [-0.0149, -0.1008, -0.0135,  ...,  0.0576, -0.1763,  0.5155],\n",
      "        ...,\n",
      "        [ 0.0062, -0.2303, -0.0696,  ...,  0.0740, -0.0795, -0.0996],\n",
      "        [-0.0746, -0.0443, -0.0670,  ..., -0.0198, -0.1278,  0.2453],\n",
      "        [-0.0415, -0.2070, -0.0145,  ...,  0.0665, -0.1666,  0.3670]],\n",
      "       requires_grad=True)\n",
      "adaptiveSoftmax.tail.1.0.weight Parameter containing:\n",
      "tensor([[ 0.1804,  0.2311, -0.5405,  ..., -0.0394, -0.0190,  0.0035],\n",
      "        [ 0.1449,  0.9085, -0.2815,  ...,  0.1103,  0.0344, -0.1758],\n",
      "        [ 1.0034,  0.2736,  0.5237,  ...,  0.0357,  0.4751,  0.1807],\n",
      "        ...,\n",
      "        [-0.2250, -0.4215,  0.3049,  ...,  0.9575, -0.1680,  0.5071],\n",
      "        [ 0.1436,  0.5397, -0.1862,  ..., -0.4800, -0.1186,  0.0116],\n",
      "        [ 0.1339, -1.0087, -0.3834,  ..., -0.3544, -0.2522, -0.0125]],\n",
      "       requires_grad=True)\n",
      "adaptiveSoftmax.tail.1.1.weight Parameter containing:\n",
      "tensor([[ 0.1146,  0.0282, -0.1030,  ...,  0.1087, -0.0921, -0.0771],\n",
      "        [ 0.0843,  0.0159, -0.1251,  ..., -0.0139,  0.0260, -0.1098],\n",
      "        [ 0.0516,  0.0726, -0.1152,  ...,  0.0343,  0.0996, -0.1123],\n",
      "        ...,\n",
      "        [ 0.0883,  0.0350, -0.1508,  ...,  0.0056,  0.0105, -0.1332],\n",
      "        [ 0.0898,  0.0369, -0.1417,  ...,  0.0154,  0.0287, -0.1275],\n",
      "        [ 0.0293, -0.0218, -0.0246,  ..., -0.0903,  0.0064, -0.1057]],\n",
      "       requires_grad=True)\n"
     ]
    }
   ],
   "source": [
    "def isnan(x):\n",
    "    return x != x\n",
    "\n",
    "for name, p in model.named_parameters():\n",
    "#     if p.grad is None:\n",
    "#         continue\n",
    "    if p.requires_grad:\n",
    "        print(name, p)\n",
    "#         p.register_hook(lambda grad: torch.clamp(grad, -clip_value, clip_value))"
   ]
  },
  {
   "cell_type": "code",
   "execution_count": 34,
   "metadata": {},
   "outputs": [],
   "source": [
    "def decay_lr(optimizer, epoch, factor=0.1, lr_decay_epoch=60):\n",
    "    if epoch % lr_decay_epoch == 0:\n",
    "        for param_group in optimizer.param_groups:\n",
    "            param_group['lr'] = param_group['lr'] * factor\n",
    "        print('lr decayed to %.4f' % optimizer.param_group[0]['lr'])\n",
    "    return optimizer"
   ]
  },
  {
   "cell_type": "markdown",
   "metadata": {},
   "source": [
    "## Train the model"
   ]
  },
  {
   "cell_type": "code",
   "execution_count": 35,
   "metadata": {
    "scrolled": true
   },
   "outputs": [],
   "source": [
    "since = time.time()\n",
    "autograd.set_detect_anomaly(False)\n",
    "prev_epoch = 0 if not epoch_values else epoch_values[-1]\n",
    "best_bleu = 0 if not bleu_values else max(bleu_values)\n",
    "\n",
    "\n",
    "def save_check_point(model, optimizer, loss_values, epoch_values, bleu_values, save_folder, Type, version_name, epoch_num):\n",
    "    model_check_point = check_point_path('model', save_folder, Type, version_name, epoch_num)\n",
    "    optim_check_point = check_point_path('optim', save_folder, Type, version_name, epoch_num)\n",
    "    loss_check_point = check_point_path('loss', save_folder, Type, version_name, epoch_num)\n",
    "    epoch_check_point = check_point_path('epoch', save_folder, Type, version_name, epoch_num)\n",
    "    bleu_check_point = check_point_path('bleu', save_folder, Type, version_name, epoch_num)\n",
    "    \n",
    "    torch.save(model.state_dict(), model_check_point)\n",
    "    torch.save(optimizer.state_dict(), optim_check_point)\n",
    "    torch.save(loss_values, loss_check_point)\n",
    "    torch.save(epoch_values, epoch_check_point)\n",
    "    torch.save(bleu_values, bleu_check_point)\n",
    "\n",
    "\n",
    "for epoch in range(num_epoch - prev_epoch):\n",
    "    epoch += prev_epoch\n",
    "    start = time.time()\n",
    "    num, total_loss = 0, 0\n",
    "#     optimizer = decay_lr(optimizer=optimizer, epoch=epoch+1)\n",
    "    topics_indice, corpus_indice = shuffleData(topics_indice, corpus_indice) # shuffle data at every epoch\n",
    "    data = data_iterator(corpus_indice, topics_indice, batch_size, max(length) + 1)\n",
    "    hidden = model.init_hidden(batch_size=batch_size)\n",
    "    weight = torch.ones(len(vocab))\n",
    "    weight[0] = 0\n",
    "    num_iter = len(corpus_indice) // batch_size\n",
    "    for X, Y, mask, topics in tqdm(data, total=num_iter):\n",
    "        num += 1\n",
    "#         hidden.detach_()\n",
    "        if use_gpu:\n",
    "            X = X.to(device)\n",
    "            Y = Y.to(device)\n",
    "            mask = mask.to(device)\n",
    "            topics = topics.to(device)\n",
    "#             hidden = hidden.to(device)\n",
    "#             hidden[0].to(device)\n",
    "#             hidden[1].to(device)\n",
    "            loss_function = loss_function.to(device)\n",
    "            weight = weight.to(device)\n",
    "        optimizer.zero_grad()\n",
    "        # init hidden layer\n",
    "#         hidden = model.init_hidden(num_layers, batch_size, hidden_dim)\n",
    "        coverage_vector = model.init_coverage_vector(batch_size, num_keywords)\n",
    "        init_output = torch.zeros(batch_size, hidden_dim).to(device)\n",
    "        # inputs, topics, output, hidden=None, mask=None, target=None, coverage_vector=None, seq_length=None):\n",
    "        output, _, hidden, _, _ = model(inputs=X, topics=topics, output=init_output, hidden=hidden, mask=mask, target=Y, coverage_vector=coverage_vector)\n",
    "#         output, hidden = model(X, topics)\n",
    "        hidden[0].detach_()\n",
    "        hidden[1].detach_()\n",
    "        \n",
    "        loss = (-output.output).reshape((-1, batch_size)).t() * mask\n",
    "#         loss = loss.sum(dim=1)\n",
    "        loss = loss.sum(dim=1) / mask.sum(dim=1)\n",
    "        loss = loss.mean()\n",
    "        loss.backward()\n",
    "        \n",
    "        norm = 0.0\n",
    "#         norm = nn.utils.clip_grad_norm_(model.parameters(), 10)\n",
    "        nn.utils.clip_grad_value_(model.parameters(), 1)\n",
    "            \n",
    "        optimizer.step()\n",
    "        total_loss += float(loss.item())\n",
    "        \n",
    "        if np.isnan(total_loss):\n",
    "            for name, p in model.named_parameters():\n",
    "                if p.grad is None:\n",
    "                    continue \n",
    "                print(name, p)\n",
    "            assert False, \"Gradient explode\"\n",
    "    \n",
    "    one_iter_loss = np.mean(total_loss)\n",
    "    lr_scheduler.step(one_iter_loss)\n",
    "#     print(\"One iteration loss {:.3f}\".format(one_iter_loss))\n",
    "    \n",
    "    # validation\n",
    "    bleu_score = 0\n",
    "    num_test = 500\n",
    "    bleu_score = evaluate_bleu(model, topics_test, corpus_test, num_test=num_test, method='predict_rnn', is_sample=True)\n",
    "    \n",
    "    bleu_values.append(bleu_score)\n",
    "    loss_values.append(total_loss / num)\n",
    "    epoch_values.append(epoch+1)\n",
    "    \n",
    "    # save checkpoint\n",
    "    if ((epoch + 1) % check_point == 0) or (epoch == (num_epoch - 1)) or epoch+1 > (num_epoch*0.9) or bleu_score > 4:\n",
    "        # model_check_point = '%s/model_trainable_%d.pk' % (save_folder, epoch+1)\n",
    "        # optim_check_point = '%s/optim_trainable_%d.pkl' % (save_folder, epoch+1)\n",
    "        # loss_check_point = '%s/loss_trainable_%d.pkl' % (save_folder, epoch+1)\n",
    "        # epoch_check_point = '%s/epoch_trainable_%d.pkl' % (save_folder, epoch+1)\n",
    "        # bleu_check_point = '%s/bleu_trainable_%d.pkl' % (save_folder, epoch+1)\n",
    "        # \n",
    "        # torch.save(model.state_dict(), model_check_point)\n",
    "        # torch.save(optimizer.state_dict(), optim_check_point)\n",
    "        # torch.save(loss_values, loss_check_point)\n",
    "        # torch.save(epoch_values, epoch_check_point)\n",
    "        # torch.save(bleu_values, bleu_check_point)\n",
    "        save_check_point(model, optimizer, loss_values, epoch_values, bleu_values, save_folder, 'trainable', version_name, epoch+1)\n",
    "    \n",
    "    # save current best result\n",
    "    if bleu_score > best_bleu:\n",
    "        best_bleu = bleu_score\n",
    "        print('current best bleu: %.4f' % best_bleu)\n",
    "        \n",
    "        # model_check_point = '%s/model_best_%d.pk' % (save_folder, epoch+1)\n",
    "        # optim_check_point = '%s/optim_best_%d.pkl' % (save_folder, epoch+1)\n",
    "        # loss_check_point = '%s/loss_best_%d.pkl' % (save_folder, epoch+1)\n",
    "        # epoch_check_point = '%s/epoch_best_%d.pkl' % (save_folder, epoch+1)\n",
    "        # bleu_check_point = '%s/bleu_best_%d.pkl' % (save_folder, epoch+1)\n",
    "        # \n",
    "        # torch.save(model.state_dict(), model_check_point)\n",
    "        # torch.save(optimizer.state_dict(), optim_check_point)\n",
    "        # torch.save(loss_values, loss_check_point)\n",
    "        # torch.save(epoch_values, epoch_check_point)\n",
    "        # torch.save(bleu_values, bleu_check_point)\n",
    "        save_check_point(model, optimizer, loss_values, epoch_values, bleu_values, save_folder, 'best', version_name, epoch+1)\n",
    "        \n",
    "    # calculate time\n",
    "    end = time.time()\n",
    "    s = end - since\n",
    "    h = math.floor(s / 3600)\n",
    "    m = s - h * 3600\n",
    "    m = math.floor(m / 60)\n",
    "    s -= (m * 60 + h * 3600)\n",
    "    \n",
    "    # verbose\n",
    "    if ((epoch + 1) % verbose == 0) or (epoch == (num_epoch - 1)):\n",
    "        print('epoch %d/%d, loss %.4f, norm %.4f, predict bleu: %.4f, time %.3fs, since %dh %dm %ds'\n",
    "              % (epoch + 1, num_epoch, total_loss / num, norm, bleu_score, end - start, h, m, s))\n",
    "        # 不 sample 全是逗号\n",
    "        evaluateAndShowAttention(['现在', '未来', '梦想', '科学', '文化'], method='beam_search', is_sample=True)"
   ]
  },
  {
   "cell_type": "code",
   "execution_count": 36,
   "metadata": {},
   "outputs": [
    {
     "data": {
      "image/png": "[encoded data removed]",
      "text/plain": [
       "<Figure size 432x288 with 1 Axes>"
      ]
     },
     "metadata": {
      "needs_background": "light"
     },
     "output_type": "display_data"
    }
   ],
   "source": [
    "plt.plot(epoch_values, loss_values, 'b')\n",
    "plt.title('loss vs. epoch')\n",
    "plt.xlabel('epoch')\n",
    "plt.ylabel('loss')\n",
    "plt.show()"
   ]
  },
  {
   "cell_type": "code",
   "execution_count": 37,
   "metadata": {},
   "outputs": [
    {
     "data": {
      "image/png": "[encoded data removed]",
      "text/plain": [
       "<Figure size 432x288 with 1 Axes>"
      ]
     },
     "metadata": {
      "needs_background": "light"
     },
     "output_type": "display_data"
    }
   ],
   "source": [
    "plt.plot(epoch_values, bleu_values, 'r')\n",
    "plt.title('bleu vs. epoch')\n",
    "plt.xlabel('epoch')\n",
    "plt.ylabel('bleu score')\n",
    "plt.show()"
   ]
  },
  {
   "cell_type": "markdown",
   "metadata": {},
   "source": [
    "## Evaluation"
   ]
  },
  {
   "cell_type": "code",
   "execution_count": 38,
   "metadata": {},
   "outputs": [
    {
     "name": "stderr",
     "output_type": "stream",
     "text": [
      "  0%|          | 0/500 [00:00<?, ?it/s]/opt/conda/lib/python3.8/site-packages/nltk/translate/bleu_score.py:552: UserWarning: \n",
      "The hypothesis contains 0 counts of 2-gram overlaps.\n",
      "Therefore the BLEU score evaluates to 0, independently of\n",
      "how many N-gram overlaps of lower order it contains.\n",
      "Consider using lower n-gram order or use SmoothingFunction()\n",
      "  warnings.warn(_msg)\n",
      "/opt/conda/lib/python3.8/site-packages/nltk/translate/bleu_score.py:552: UserWarning: \n",
      "The hypothesis contains 0 counts of 3-gram overlaps.\n",
      "Therefore the BLEU score evaluates to 0, independently of\n",
      "how many N-gram overlaps of lower order it contains.\n",
      "Consider using lower n-gram order or use SmoothingFunction()\n",
      "  warnings.warn(_msg)\n",
      "/opt/conda/lib/python3.8/site-packages/nltk/translate/bleu_score.py:552: UserWarning: \n",
      "The hypothesis contains 0 counts of 4-gram overlaps.\n",
      "Therefore the BLEU score evaluates to 0, independently of\n",
      "how many N-gram overlaps of lower order it contains.\n",
      "Consider using lower n-gram order or use SmoothingFunction()\n",
      "  warnings.warn(_msg)\n",
      "100%|██████████| 500/500 [05:45<00:00,  1.45it/s]\n"
     ]
    },
    {
     "data": {
      "text/plain": [
       "0.1857788153882201"
      ]
     },
     "execution_count": 38,
     "metadata": {},
     "output_type": "execute_result"
    }
   ],
   "source": [
    "num_test = 5000\n",
    "bleu_score = evaluate_bleu(model, topics_test, corpus_test, num_test=num_test, method='predict_rnn', is_sample=True)\n",
    "bleu_score"
   ]
  },
  {
   "cell_type": "markdown",
   "metadata": {},
   "source": [
    "## Test some samples"
   ]
  },
  {
   "cell_type": "code",
   "execution_count": 39,
   "metadata": {},
   "outputs": [
    {
     "name": "stdout",
     "output_type": "stream",
     "text": [
      "input = 妈妈 希望 长大 孩子 母爱\n",
      "output = <BOS> 是 一种 爱 ， 是 人世间 最 重要 的 财富 ； 是 一种 温暖 ， 是 一种 需要 世间 的 力量 。 爱 的 母亲 是 一种 深沉 的 力量 ； 母爱 是 一盏 明灯 的 夏日 ， 是 母亲 给 了 自己 温暖 的 温馨 ； 温暖 的 温馨 ， 让 我们 一起 分享 。\n"
     ]
    },
    {
     "name": "stderr",
     "output_type": "stream",
     "text": [
      "<ipython-input-23-54bdfb19faf5>:15: UserWarning: FixedFormatter should only be used together with FixedLocator\n",
      "  ax.set_yticklabels([''] + input_sentence.split(' '), fontproperties=fontprop, fontsize=10)\n",
      "<ipython-input-23-54bdfb19faf5>:16: UserWarning: FixedFormatter should only be used together with FixedLocator\n",
      "  ax.set_xticklabels([''] + output_words, fontproperties=fontprop, fontsize=10, rotation=45)\n"
     ]
    },
    {
     "data": {
      "image/png": "[encoded data removed]",
      "text/plain": [
       "<Figure size 2052x180 with 2 Axes>"
      ]
     },
     "metadata": {
      "needs_background": "light"
     },
     "output_type": "display_data"
    },
    {
     "name": "stdout",
     "output_type": "stream",
     "text": [
      "input = 现在 未来 梦想 科学 文化\n",
      "output = <BOS> 现在 ， 我 要 相信 自己 的 今天 ， 而 我 一定 会 好好学习 ， 相信 我 要 向 祖国 学习 ， 好好学习 现在 的 将来 ， 我 想 走进 祖国 的 未来 ， 让 祖国 的 未来 早日 更加 美好 富强 。 富强 ， 我 相信 会 有 中国 梦 。\n"
     ]
    },
    {
     "data": {
      "image/png": "[encoded data removed]",
      "text/plain": [
       "<Figure size 1908x180 with 2 Axes>"
      ]
     },
     "metadata": {
      "needs_background": "light"
     },
     "output_type": "display_data"
    },
    {
     "name": "stdout",
     "output_type": "stream",
     "text": [
      "input = 春天 来临 田野 聆听 小路\n",
      "output = <BOS> 我 的 家乡 是 一个 鸟语花香 的 季节 。 我 ， 在 成长 中 为 春天 渡 在 花海 的 冬天 里 尽情 着 成长 的 春天 。 春天 到 了 ， 天气 我 就要 到来 自己 的 到来 。 春天 ， 草长莺飞 抽出 好 来 了 ！\n"
     ]
    },
    {
     "data": {
      "image/png": "[encoded data removed]",
      "text/plain": [
       "<Figure size 1764x180 with 2 Axes>"
      ]
     },
     "metadata": {
      "needs_background": "light"
     },
     "output_type": "display_data"
    },
    {
     "name": "stdout",
     "output_type": "stream",
     "text": [
      "input = 子女 父母 父爱 无比 温暖\n",
      "output = <BOS> 他 的 爱 、 残疾 、 父母 之间 都 有着 我 的 生活 ； 有人 不要 父母 之 余 ， 为 父母 付出 ， 我们 都 应该 尊老爱幼 的 人 。 我们 要 从小 安利 ， 对 子女 着想 奉献 、 爱护 他人 ， 甘愿 我们 是 父母 。\n"
     ]
    },
    {
     "data": {
      "image/png": "[encoded data removed]",
      "text/plain": [
       "<Figure size 1800x180 with 2 Axes>"
      ]
     },
     "metadata": {
      "needs_background": "light"
     },
     "output_type": "display_data"
    },
    {
     "name": "stdout",
     "output_type": "stream",
     "text": [
      "input = 信念 人生 失落 心灵 不屈\n",
      "output = <BOS> 学生 ， 每 一个 人 都 能 读书 。 有 的 人生 ， 有 动力 的 信念 ， 在 路 上 ， 有 许许多多 的 经历 ， 还有 的 像 理想 ， 有 的 拼搏 ， 有 的 拼搏 ， 有 理想 的 爱 。\n"
     ]
    },
    {
     "data": {
      "image/png": "[encoded data removed]",
      "text/plain": [
       "<Figure size 1656x180 with 2 Axes>"
      ]
     },
     "metadata": {
      "needs_background": "light"
     },
     "output_type": "display_data"
    },
    {
     "name": "stdout",
     "output_type": "stream",
     "text": [
      "input = 体会 母亲 滴水之恩 母爱 养育之恩\n",
      "output = <BOS> 中国 ， 我 仿佛 的 一切 都 无法 感受 到 了 生活 之中 的 变化 。 在 那 浮华 的 飞逝 中 ， 我们 应该 珍惜 的 是 一样 奢望 的 。 在 生命 的 时候 ， 要 珍惜 珍惜 ， 珍惜 才 长大 。\n"
     ]
    },
    {
     "data": {
      "image/png": "[encoded data removed]",
      "text/plain": [
       "<Figure size 1656x180 with 2 Axes>"
      ]
     },
     "metadata": {
      "needs_background": "light"
     },
     "output_type": "display_data"
    }
   ],
   "source": [
    "evaluateAndShowAttention(['妈妈', '希望', '长大', '孩子', '母爱'], method='beam_search', is_sample=True)\n",
    "evaluateAndShowAttention(['现在', '未来', '梦想', '科学', '文化'], method='beam_search', is_sample=True)\n",
    "evaluateAndShowAttention(['春天', '来临', '田野', '聆听', '小路'], method='beam_search', is_sample=True)\n",
    "evaluateAndShowAttention(['子女', '父母', '父爱', '无比', '温暖'], method='beam_search', is_sample=True)\n",
    "evaluateAndShowAttention(['信念', '人生', '失落', '心灵', '不屈'], method='beam_search', is_sample=True)\n",
    "evaluateAndShowAttention(['体会', '母亲', '滴水之恩', '母爱', '养育之恩'], method='beam_search', is_sample=True)"
   ]
  },
  {
   "cell_type": "code",
   "execution_count": null,
   "metadata": {},
   "outputs": [],
   "source": []
  }
 ],
 "metadata": {
  "kernelspec": {
   "display_name": "Python 3",
   "language": "python",
   "name": "python3"
  },
  "language_info": {
   "codemirror_mode": {
    "name": "ipython",
    "version": 3
   },
   "file_extension": ".py",
   "mimetype": "text/x-python",
   "name": "python",
   "nbconvert_exporter": "python",
   "pygments_lexer": "ipython3",
   "version": "3.8.6"
  }
 },
 "nbformat": 4,
 "nbformat_minor": 4
}
