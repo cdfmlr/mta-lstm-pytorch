{
 "cells": [
  {
   "cell_type": "markdown",
   "metadata": {},
   "source": [
    "# MTA-LSTM-PyTorch\n",
    "\n",
    "This is an implementation of the paper [Topic-to-Essay Generation with Neural Networks](http://ir.hit.edu.cn/~xcfeng/xiaocheng%20Feng's%20Homepage_files/final-topic-essay-generation.pdf). The original work can be found [here](https://github.com/hit-computer/MTA-LSTM), which is implemented in TensorFlow and is totally out-of-date, further more, the owner doesn't seem to maintain it anymore. Therefore, I decided to re-implement it in a simple yet powerful framework, PyTorch.\n",
    "\n",
    "In this notebook, I'll show you how to build a neural network proposed in the paper step by step from scratch."
   ]
  },
  {
   "cell_type": "markdown",
   "metadata": {},
   "source": [
    "## Import packages\n",
    "\n",
    "The followings are some packages that'll be used in this work. Make sure you have them installed."
   ]
  },
  {
   "cell_type": "code",
   "execution_count": 1,
   "metadata": {},
   "outputs": [],
   "source": [
    "import gensim\n",
    "from gensim.models import KeyedVectors\n",
    "import numpy as np\n",
    "import torch\n",
    "from torch import nn, autograd, optim\n",
    "from torch.optim.lr_scheduler import ReduceLROnPlateau\n",
    "from torch.nn import Parameter, LayerNorm\n",
    "from torch.autograd import Variable\n",
    "import torch.jit as jit\n",
    "import torch.nn.functional as F\n",
    "import time\n",
    "import os\n",
    "import math\n",
    "from tqdm import tqdm\n",
    "import collections\n",
    "from collections import namedtuple\n",
    "import random"
   ]
  },
  {
   "cell_type": "code",
   "execution_count": 2,
   "metadata": {
    "scrolled": true
   },
   "outputs": [],
   "source": [
    "# import matplotlib as mpl\n",
    "# import matplotlib.pyplot as plt\n",
    "# !wget \"https://noto-website-2.storage.googleapis.com/pkgs/NotoSansCJKtc-hinted.zip\"\n",
    "# !unzip NotoSansCJKtc-hinted.zip\n",
    "# !sudo mv NotoSansCJKtc-Black.otf /usr/share/fonts/truetype/\n",
    "# !sudo mv NotoSansCJKtc-Bold.otf /usr/share/fonts/truetype/\n",
    "# !sudo mv NotoSansCJKtc-DemiLight.otf /usr/share/fonts/truetype/\n",
    "# !sudo mv NotoSansCJKtc-Light.otf /usr/share/fonts/truetype/\n",
    "# !sudo mv NotoSansCJKtc-Medium.otf /usr/share/fonts/truetype/\n",
    "# !sudo mv NotoSansCJKtc-Regular.otf /usr/share/fonts/truetype/\n",
    "# !sudo mv NotoSansCJKtc-Thin.otf /usr/share/fonts/truetype/\n",
    "# !sudo mv NotoSansMonoCJKtc-Bold.otf /usr/share/fonts/truetype/\n",
    "# !sudo mv NotoSansMonoCJKtc-Regular.otf /usr/share/fonts/truetype/"
   ]
  },
  {
   "cell_type": "code",
   "execution_count": 3,
   "metadata": {},
   "outputs": [],
   "source": [
    "import matplotlib.font_manager as fm\n",
    "import matplotlib.font_manager as font_manager\n",
    "\n",
    "font_dirs = ['/fonts/', ]\n",
    "font_files = font_manager.findSystemFonts(fontpaths=font_dirs)\n",
    "\n",
    "# The createFontList function was deprecated in Matplotlib 3.2 and will be removed two minor releases later. Use FontManager.addfont instead.\n",
    "# font_list = font_manager.createFontList(font_files)\n",
    "# font_manager.fontManager.ttflist.extend(font_list)\n",
    "for font_file in font_files:\n",
    "    font_manager.fontManager.addfont(font_file)\n",
    "\n",
    "path = 'fonts/NotoSansSC-Regular.otf'\n",
    "fontprop = fm.FontProperties(fname=path)"
   ]
  },
  {
   "cell_type": "code",
   "execution_count": 4,
   "metadata": {},
   "outputs": [
    {
     "name": "stdout",
     "output_type": "stream",
     "text": [
      "Available cuda: 0\n"
     ]
    }
   ],
   "source": [
    "os.environ[\"CUDA_VISIBLE_DEVICES\"]=\"0,1\"\n",
    "print('Available cuda:', torch.cuda.device_count())\n",
    "if torch.cuda.is_available():\n",
    "    device_num = 1\n",
    "    deviceName = \"cuda:%d\" % device_num\n",
    "    torch.cuda.set_device(device_num)\n",
    "    print('Current device:', torch.cuda.current_device())\n",
    "else:\n",
    "    deviceName = \"cpu\"\n",
    "    \n",
    "device = torch.device(deviceName)"
   ]
  },
  {
   "cell_type": "markdown",
   "metadata": {},
   "source": [
    "## Build a dictionary and pretrained embedding system\n",
    "\n",
    "Here I'm gonna load the pretrained word2vec vocab and vectors. Please refer to [this notebook]() to he how to train it.\n",
    "\n",
    "The code ```fvec.vectors``` is where we get the pretrained vectors.\n",
    "```<PAD>```, ```<BOS>```, ```<EOS>``` and ```<UNK>``` are 4 common tokens which stands for **PADding**, **Begin-Of-Sentence**, **End-Of-Sentence** and **UNKnown** respectively. We simply add them into the vocabularies."
   ]
  },
  {
   "cell_type": "code",
   "execution_count": 5,
   "metadata": {},
   "outputs": [
    {
     "name": "stdout",
     "output_type": "stream",
     "text": [
      "total 189613 words\n"
     ]
    }
   ],
   "source": [
    "save_folder = 'model_result_multi_layer'\n",
    "\n",
    "vocab_check_point = '%s/vocab.pkl' % save_folder\n",
    "word_vec_check_point = '%s/word_vec.pkl' % save_folder\n",
    "\n",
    "if os.path.exists(vocab_check_point) and os.path.exists(word_vec_check_point):\n",
    "    vocab = torch.load(vocab_check_point)\n",
    "    word_vec = torch.load(word_vec_check_point)\n",
    "else:\n",
    "    file_path = 'data/'\n",
    "    \n",
    "    fvec = KeyedVectors.load_word2vec_format(file_path+'composition_mincount_1_305000_vec_original.txt', binary=False)\n",
    "    \n",
    "    word_vec = fvec.vectors\n",
    "    \n",
    "    vocab = ['<PAD>', '<BOS>', '<EOS>', '<UNK>']\n",
    "    vocab.extend(list(fvec.index_to_key))\n",
    "    \n",
    "    word_vec = np.concatenate((np.array([[0]*word_vec.shape[1]] * 4), word_vec))\n",
    "    word_vec = torch.tensor(word_vec).float()\n",
    "    \n",
    "    del fvec\n",
    "    \n",
    "    torch.save(vocab, vocab_check_point)\n",
    "    torch.save(word_vec, word_vec_check_point)\n",
    "    \n",
    "print(\"total %d words\" % len(word_vec))"
   ]
  },
  {
   "cell_type": "markdown",
   "metadata": {},
   "source": [
    "## Build a word-index convertor\n",
    "\n",
    "We don't want to use type of string directly when training, instead we map them to a unique index in integer. In text generation phase, we'll then convert them back to string."
   ]
  },
  {
   "cell_type": "code",
   "execution_count": 6,
   "metadata": {},
   "outputs": [],
   "source": [
    "word_to_idx = {ch: i for i, ch in enumerate(vocab)}\n",
    "idx_to_word = {i: ch for i, ch in enumerate(vocab)}"
   ]
  },
  {
   "cell_type": "markdown",
   "metadata": {},
   "source": [
    "## Load preprocessed data\n",
    "\n",
    "You can prepare for your own data, or simply use what I offered in the data folder."
   ]
  },
  {
   "cell_type": "code",
   "execution_count": 7,
   "metadata": {},
   "outputs": [
    {
     "name": "stderr",
     "output_type": "stream",
     "text": [
      "100%|██████████| 10000/10000 [00:00<00:00, 58585.15it/s]"
     ]
    },
    {
     "name": "stdout",
     "output_type": "stream",
     "text": [
      "10000\n"
     ]
    },
    {
     "name": "stderr",
     "output_type": "stream",
     "text": [
      "\n"
     ]
    }
   ],
   "source": [
    "essays = []\n",
    "topics = []\n",
    "\n",
    "file_path = 'data/'\n",
    "file_name = 'zhihu_small.txt'  ### TODO\n",
    "\n",
    "num_lines = sum(1 for line in open(file_path+file_name, 'r'))\n",
    "with open(file_path+file_name) as f:\n",
    "    for line in tqdm(f, total=num_lines):\n",
    "        essay, topic = line.replace('\\n', '').split(' </d> ')\n",
    "        essays.append(essay.split(' '))\n",
    "        topics.append(topic.split(' '))\n",
    "#     f.close()\n",
    "    \n",
    "assert len(topics) == len(essays)\n",
    "print(len(topics))"
   ]
  },
  {
   "cell_type": "markdown",
   "metadata": {},
   "source": [
    "We then map all the training and testing corpus to integer index word-by-word, with the help of our convertor. Note that we map it to ```<UNK>``` if the words in corpus are not in the dictionary."
   ]
  },
  {
   "cell_type": "code",
   "execution_count": 8,
   "metadata": {},
   "outputs": [
    {
     "name": "stderr",
     "output_type": "stream",
     "text": [
      "100%|██████████| 9850/9850 [00:00<00:00, 29932.42it/s]\n",
      "100%|██████████| 9850/9850 [00:00<00:00, 270465.62it/s]\n",
      "100%|██████████| 150/150 [00:00<00:00, 25154.76it/s]\n",
      "100%|██████████| 150/150 [00:00<00:00, 48710.56it/s]\n"
     ]
    }
   ],
   "source": [
    "split_index = int(len(topics) * 0.985)\n",
    "\n",
    "corpus_indice = list(map(lambda x: [word_to_idx[w] if (w in word_to_idx) else word_to_idx['<UNK>'] for w in x], tqdm(essays[:split_index])))\n",
    "topics_indice = list(map(lambda x: [word_to_idx[w] if (w in word_to_idx) else word_to_idx['<UNK>'] for w in x], tqdm(topics[:split_index])))\n",
    "corpus_test = list(map(lambda x: [word_to_idx[w] if (w in word_to_idx) else word_to_idx['<UNK>'] for w in x], tqdm(essays[split_index:])))\n",
    "topics_test = list(map(lambda x: [word_to_idx[w] if (w in word_to_idx) else word_to_idx['<UNK>'] for w in x], tqdm(topics[split_index:])))"
   ]
  },
  {
   "cell_type": "code",
   "execution_count": 9,
   "metadata": {},
   "outputs": [],
   "source": [
    "def viewData(topics, X):\n",
    "    topics = [idx_to_word[x] for x in topics]\n",
    "    X = [idx_to_word[x] for x in X]\n",
    "    print(topics, X)"
   ]
  },
  {
   "cell_type": "code",
   "execution_count": 10,
   "metadata": {},
   "outputs": [],
   "source": [
    "from random import shuffle\n",
    "\n",
    "def shuffleData(topics_indice, corpus_indice):\n",
    "    ind_list = [i for i in range(len(topics_indice))]\n",
    "    shuffle(ind_list)\n",
    "    topics_indice = np.array(topics_indice)\n",
    "    corpus_indice = np.array(corpus_indice)\n",
    "    topics_indice = topics_indice[ind_list,]\n",
    "    corpus_indice = corpus_indice[ind_list,]\n",
    "    topics_indice = topics_indice.tolist()\n",
    "    corpus_indice = corpus_indice.tolist()\n",
    "    return topics_indice, corpus_indice\n",
    "\n",
    "# topics_indice, corpus_indice = shuffleData(topics_indice, corpus_indice)\n",
    "# viewData(topics_indice[0], corpus_indice[0])"
   ]
  },
  {
   "cell_type": "code",
   "execution_count": 11,
   "metadata": {},
   "outputs": [],
   "source": [
    "for t in topics_indice:\n",
    "    if len(t) != 5:\n",
    "        print('less than 5')"
   ]
  },
  {
   "cell_type": "markdown",
   "metadata": {},
   "source": [
    "We need to know the max length of training corpus too, in order to pad sequences that aren't long enough."
   ]
  },
  {
   "cell_type": "code",
   "execution_count": 12,
   "metadata": {},
   "outputs": [],
   "source": [
    "length = list(map(lambda x: len(x), corpus_indice))"
   ]
  },
  {
   "cell_type": "markdown",
   "metadata": {},
   "source": [
    "Delete useless dependencies to free up some space."
   ]
  },
  {
   "cell_type": "code",
   "execution_count": 13,
   "metadata": {},
   "outputs": [],
   "source": [
    "del essays\n",
    "del topics"
   ]
  },
  {
   "cell_type": "markdown",
   "metadata": {},
   "source": [
    "## Batch data iterator\n",
    "\n",
    "We want to iter through training data in batches and feed them into the network, and this is how we prepare for it:"
   ]
  },
  {
   "cell_type": "code",
   "execution_count": 14,
   "metadata": {},
   "outputs": [],
   "source": [
    "def data_iterator(corpus_indice, topics_indice, batch_size, num_steps):\n",
    "    epoch_size = len(corpus_indice) // batch_size\n",
    "    for i in range(epoch_size):\n",
    "        raw_data = corpus_indice[i*batch_size: (i+1)*batch_size]\n",
    "        key_words = topics_indice[i*batch_size: (i+1)*batch_size]\n",
    "        data = np.zeros((len(raw_data), num_steps+1), dtype=np.int64)\n",
    "        for i in range(batch_size):\n",
    "            doc = raw_data[i]\n",
    "            tmp = [1]\n",
    "            tmp.extend(doc)\n",
    "            tmp.extend([2])\n",
    "            tmp = np.array(tmp, dtype=np.int64)\n",
    "            _size = tmp.shape[0]\n",
    "            data[i][:_size] = tmp\n",
    "        key_words = np.array(key_words, dtype=np.int64)\n",
    "        x = data[:, 0:num_steps]\n",
    "        y = data[:, 1:]\n",
    "        mask = np.float32(x != 0)\n",
    "        x = torch.tensor(x)\n",
    "        y = torch.tensor(y)\n",
    "        mask = torch.tensor(mask)\n",
    "        key_words = torch.tensor(key_words)\n",
    "        yield(x, y, mask, key_words)"
   ]
  },
  {
   "cell_type": "markdown",
   "metadata": {},
   "source": [
    "## Build model: MTA-LSTM\n",
    "\n",
    "This is the most important part in the notebook."
   ]
  },
  {
   "cell_type": "markdown",
   "metadata": {},
   "source": [
    "### Bahdanau Attention"
   ]
  },
  {
   "cell_type": "code",
   "execution_count": 15,
   "metadata": {},
   "outputs": [],
   "source": [
    "class Attention(nn.Module):\n",
    "    \"\"\"Implements Bahdanau (MLP) attention\"\"\"\n",
    "    \n",
    "    def __init__(self, hidden_size, embed_size):\n",
    "        super(Attention, self).__init__()\n",
    "        \n",
    "        self.Ua = nn.Linear(embed_size, hidden_size, bias=False)\n",
    "        self.Wa = nn.Linear(hidden_size, hidden_size, bias=False)\n",
    "        self.va = nn.Linear(hidden_size, 1, bias=True)\n",
    "        # to store attention scores\n",
    "        self.alphas = None\n",
    "        \n",
    "    def forward(self, query, topics, coverage_vector):\n",
    "        scores = []\n",
    "        C_t = coverage_vector.clone()\n",
    "        for i in range(topics.shape[1]):\n",
    "            proj_key = self.Ua(topics[:, i, :])\n",
    "            query = self.Wa(query)\n",
    "            scores += [self.va(torch.tanh(query + proj_key)) * C_t[:, i:i+1]]\n",
    "            \n",
    "        # stack scores\n",
    "        scores = torch.stack(scores, dim=1)\n",
    "        scores = scores.squeeze(2)\n",
    "#         print(scores.shape)\n",
    "        # turn scores to probabilities\n",
    "        alphas = F.softmax(scores, dim=1)\n",
    "        self.alphas = alphas\n",
    "        \n",
    "        # mt vector is the weighted sum of the topics\n",
    "        mt = torch.bmm(alphas.unsqueeze(1), topics)\n",
    "        mt = mt.squeeze(1)\n",
    "        \n",
    "        # mt shape: [batch x embed], alphas shape: [batch x num_keywords]\n",
    "        return mt, alphas"
   ]
  },
  {
   "cell_type": "markdown",
   "metadata": {},
   "source": [
    "### Attention Decoder"
   ]
  },
  {
   "cell_type": "code",
   "execution_count": 16,
   "metadata": {},
   "outputs": [],
   "source": [
    "class AttentionDecoder(nn.Module):\n",
    "    def __init__(self, hidden_size, embed_size, num_layers, dropout=0.5):\n",
    "        super(AttentionDecoder, self).__init__()\n",
    "        \n",
    "        self.hidden_size = hidden_size\n",
    "        self.embed_size = embed_size\n",
    "        self.num_layers = num_layers\n",
    "        self.dropout = dropout\n",
    "        \n",
    "        # topic attention\n",
    "        self.attention = Attention(hidden_size, embed_size)\n",
    "        \n",
    "        # lstm\n",
    "        self.rnn = nn.LSTM(input_size=embed_size * 2, \n",
    "                           hidden_size=hidden_size, \n",
    "                           num_layers=num_layers, \n",
    "                           dropout=dropout)\n",
    "        \n",
    "    def forward(self, input, output, hidden, phi, topics, coverage_vector):\n",
    "        # 1. calculate attention weight and mt\n",
    "        mt, score = self.attention(output.squeeze(0), topics, coverage_vector)\n",
    "        mt = mt.unsqueeze(1).permute(1, 0, 2)\n",
    "        \n",
    "        # 2. update coverge vector [batch x num_keywords]\n",
    "        coverage_vector = coverage_vector - score / phi\n",
    "        \n",
    "        # 3. concat input and Tt, and feed into rnn \n",
    "        output, hidden = self.rnn(torch.cat([input, mt], dim=2), hidden)\n",
    "        \n",
    "        return output, hidden, score, coverage_vector"
   ]
  },
  {
   "cell_type": "markdown",
   "metadata": {},
   "source": [
    "### MTA-LSTM model"
   ]
  },
  {
   "cell_type": "code",
   "execution_count": 17,
   "metadata": {},
   "outputs": [],
   "source": [
    "LSTMState = namedtuple('LSTMState', ['hx', 'cx'])\n",
    "class MTALSTM(nn.Module):\n",
    "    def __init__(self, hidden_dim, embed_dim, num_keywords, num_layers, weight,\n",
    "                 num_labels, bidirectional, dropout=0.5, **kwargs):\n",
    "        super(MTALSTM, self).__init__(**kwargs)\n",
    "        self.hidden_dim = hidden_dim\n",
    "        self.embed_dim = embed_dim\n",
    "        self.num_layers = num_layers\n",
    "        self.num_labels = num_labels\n",
    "        self.bidirectional = bidirectional\n",
    "        if num_layers <= 1:\n",
    "            self.dropout = 0\n",
    "        else:\n",
    "            self.dropout = dropout\n",
    "        self.embedding = nn.Embedding.from_pretrained(weight)\n",
    "        self.embedding.weight.requires_grad = False\n",
    "        self.Uf = nn.Linear(embed_dim * num_keywords, num_keywords, bias=False)\n",
    "        \n",
    "        # attention decoder\n",
    "        self.decoder = AttentionDecoder(hidden_size=hidden_dim, \n",
    "                                        embed_size=embed_dim, \n",
    "                                        num_layers=num_layers, \n",
    "                                        dropout=dropout)\n",
    "        \n",
    "        # adaptive softmax\n",
    "        self.adaptiveSoftmax = nn.AdaptiveLogSoftmaxWithLoss(hidden_dim, \n",
    "                                                             num_labels, \n",
    "                                                             cutoffs=[round(num_labels / 20), 4*round(num_labels / 20)])\n",
    "    \n",
    "    def forward(self, inputs, topics, output, hidden=None, mask=None, target=None, coverage_vector=None, seq_length=None):\n",
    "        embeddings = self.embedding(inputs)\n",
    "        topics_embed = self.embedding(topics)\n",
    "        ''' calculate phi [batch x num_keywords] '''\n",
    "        phi = None\n",
    "        phi = torch.sum(mask, dim=1, keepdim=True) * torch.sigmoid(self.Uf(topics_embed.reshape(topics_embed.shape[0], -1).float()))\n",
    "        \n",
    "        # loop through sequence\n",
    "        inputs = embeddings.permute([1, 0, 2]).unbind(0)\n",
    "        output_states = []\n",
    "        attn_weight = []\n",
    "        for i in range(len(inputs)):\n",
    "            output, hidden, score, coverage_vector = self.decoder(input=inputs[i].unsqueeze(0), \n",
    "                                                                        output=output, \n",
    "                                                                        hidden=hidden, \n",
    "                                                                        phi=phi, \n",
    "                                                                        topics=topics_embed, \n",
    "                                                                        coverage_vector=coverage_vector) # [seq_len x batch x embed_size]\n",
    "            output_states += [output]\n",
    "            attn_weight += [score]\n",
    "            \n",
    "        output_states = torch.stack(output_states)\n",
    "        attn_weight = torch.stack(attn_weight)\n",
    "        \n",
    "        # calculate loss py adaptiveSoftmax\n",
    "        outputs = self.adaptiveSoftmax(output_states.reshape(-1, output_states.shape[-1]), target.t().reshape((-1,)))\n",
    "        \n",
    "        return outputs, output_states, hidden, attn_weight, coverage_vector\n",
    "    \n",
    "    def inference(self, inputs, topics, output, hidden=None, mask=None, coverage_vector=None, seq_length=None):\n",
    "        embeddings = self.embedding(inputs)\n",
    "        topics_embed = self.embedding(topics)\n",
    "       \n",
    "        phi = None\n",
    "        phi = seq_length.float() * torch.sigmoid(self.Uf(topics_embed.reshape(topics_embed.shape[0], -1).float()))\n",
    "        \n",
    "        queries = embeddings.permute([1, 0, 2])[-1].unsqueeze(0)\n",
    "        \n",
    "        inputs = queries.permute([1, 0, 2]).unbind(0)\n",
    "        output_states = []\n",
    "        attn_weight = []\n",
    "        for i in range(len(inputs)):\n",
    "            output, hidden, score, coverage_vector = self.decoder(input=inputs[i].unsqueeze(0), \n",
    "                                                                        output=output, \n",
    "                                                                        hidden=hidden, \n",
    "                                                                        phi=phi, \n",
    "                                                                        topics=topics_embed, \n",
    "                                                                        coverage_vector=coverage_vector) # [seq_len x batch x embed_size]\n",
    "            output_states += [output]\n",
    "            attn_weight += [score]\n",
    "            \n",
    "        output_states = torch.stack(output_states)\n",
    "        attn_weight = torch.stack(attn_weight)\n",
    "        \n",
    "        outputs = self.adaptiveSoftmax.log_prob(output_states.reshape(-1, output_states.shape[-1]))\n",
    "        return outputs, output_states, hidden, attn_weight, coverage_vector\n",
    "    \n",
    "    def init_hidden(self, batch_size):\n",
    "#         hidden = torch.zeros(num_layers, batch_size, hidden_dim)\n",
    "#         hidden = LSTMState(torch.zeros(batch_size, hidden_dim).to(device), torch.zeros(batch_size, hidden_dim).to(device))\n",
    "        hidden = (torch.zeros(self.num_layers, batch_size, self.hidden_dim).to(device), \n",
    "                  torch.zeros(self.num_layers, batch_size, self.hidden_dim).to(device))\n",
    "        return hidden\n",
    "    \n",
    "    def init_coverage_vector(self, batch_size, num_keywords):\n",
    "#         self.coverage_vector = torch.ones([batch_size, num_keywords]).to(device)\n",
    "        return torch.ones([batch_size, num_keywords]).to(device)\n",
    "#         print(self.coverage_vector)\n",
    "    "
   ]
  },
  {
   "cell_type": "markdown",
   "metadata": {},
   "source": [
    "## Greedy decode strategy"
   ]
  },
  {
   "cell_type": "code",
   "execution_count": 18,
   "metadata": {},
   "outputs": [],
   "source": [
    "def pad_topic(topics):\n",
    "    topics = [word_to_idx[x] for x in topics]\n",
    "    topics = torch.tensor(topics)\n",
    "    print(topics)\n",
    "    max_num = 5\n",
    "    size = 1\n",
    "    ans = np.zeros((size, max_num), dtype=int)\n",
    "    for i in range(size):\n",
    "        true_len = min(len(topics), max_num)\n",
    "        for j in range(true_len):\n",
    "            print(topics[i])\n",
    "            ans[i][j] = topics[i][j]\n",
    "    return ans"
   ]
  },
  {
   "cell_type": "code",
   "execution_count": 19,
   "metadata": {},
   "outputs": [],
   "source": [
    "def predict_rnn(topics, num_chars, model, idx_to_word, word_to_idx):\n",
    "    output_idx = [1]\n",
    "    topics = [word_to_idx[x] for x in topics]\n",
    "    topics = torch.tensor(topics)\n",
    "    topics = topics.reshape((1, topics.shape[0]))\n",
    "#     hidden = torch.zeros(num_layers, 1, hidden_dim)\n",
    "#     hidden = (torch.zeros(num_layers, 1, hidden_dim).to(device), torch.zeros(num_layers, 1, hidden_dim).to(device))\n",
    "    hidden = model.init_hidden(batch_size=1)\n",
    "    if use_gpu:\n",
    "#         hidden = hidden.cuda()\n",
    "        adaptive_softmax.to(device)\n",
    "        topics = topics.to(device)\n",
    "    coverage_vector = model.init_coverage_vector(topics.shape[0], topics.shape[1])\n",
    "    attentions = torch.zeros(num_chars, topics.shape[1])\n",
    "    for t in range(num_chars):\n",
    "        X = torch.tensor(output_idx[-1]).reshape((1, 1))\n",
    "#         X = torch.tensor(output).reshape((1, len(output)))\n",
    "        if use_gpu:\n",
    "            X = X.to(device)\n",
    "        if t == 0:\n",
    "            output = torch.zeros(1, hidden_dim).to(device)\n",
    "        else:\n",
    "            output = output.squeeze(0)\n",
    "        pred, output, hidden, attn_weight, coverage_vector = model.inference(inputs=X, topics=topics, output=output, hidden=hidden, coverage_vector=coverage_vector, seq_length=torch.tensor(50).reshape(1, 1).to(device))\n",
    "#         print(coverage_vector)\n",
    "        pred = pred.argmax(dim=1) # greedy strategy\n",
    "        attentions[t] = attn_weight[0].data\n",
    "#         pred = adaptive_softmax.predict(pred)\n",
    "        if pred[-1] == 2:\n",
    "#         if pred.argmax(dim=1)[-1] == 2:\n",
    "            break\n",
    "        else:\n",
    "            output_idx.append(int(pred[-1]))\n",
    "#             output.append(int(pred.argmax(dim=1)[-1]))\n",
    "    return(''.join([idx_to_word[i] for i in output_idx[1:]]), [idx_to_word[i] for i in output_idx[1:]], attentions[:t+1].t(), output_idx[1:])"
   ]
  },
  {
   "cell_type": "code",
   "execution_count": 20,
   "metadata": {},
   "outputs": [],
   "source": [
    "# nonsense\n",
    "\n",
    "# test = [1, 15, 23]\n",
    "# test = np.array(test, dtype=np.int64)\n",
    "# mm = np.float32(test != 0)\n",
    "# mm"
   ]
  },
  {
   "cell_type": "markdown",
   "metadata": {},
   "source": [
    "## Beam search strategy"
   ]
  },
  {
   "cell_type": "code",
   "execution_count": 21,
   "metadata": {},
   "outputs": [],
   "source": [
    "def beam_search(topics, num_chars, model, idx_to_word, word_to_idx, is_sample=False):\n",
    "    output_idx = [1]\n",
    "    topics = [word_to_idx[x] for x in topics]\n",
    "    topics = torch.tensor(topics)\n",
    "    topics = topics.reshape((1, topics.shape[0]))\n",
    "#     hidden = torch.zeros(num_layers, 1, hidden_dim)\n",
    "#     hidden = (torch.zeros(num_layers, 1, hidden_dim).to(device), torch.zeros(num_layers, 1, hidden_dim).to(device))\n",
    "    hidden = model.init_hidden(batch_size=1)\n",
    "    if use_gpu:\n",
    "#         hidden = hidden.cuda()\n",
    "        adaptive_softmax.to(device)\n",
    "        topics = topics.to(device)\n",
    "        seq_length = torch.tensor(50).reshape(1, 1).to(device)\n",
    "    \"\"\"1\"\"\"    \n",
    "    coverage_vector = model.init_coverage_vector(topics.shape[0], topics.shape[1])\n",
    "    attentions = torch.zeros(num_chars, topics.shape[1])\n",
    "    X = torch.tensor(output_idx[-1]).reshape((1, 1)).to(device)\n",
    "    output = torch.zeros(1, hidden_dim).to(device)\n",
    "    log_prob, output, hidden, attn_weight, coverage_vector = model.inference(inputs=X, \n",
    "                                                                   topics=topics, \n",
    "                                                                   output=output, \n",
    "                                                                   hidden=hidden, \n",
    "                                                                   coverage_vector=coverage_vector, \n",
    "                                                                   seq_length=seq_length)\n",
    "    log_prob = log_prob.cpu().detach().reshape(-1).numpy()\n",
    "#     print(log_prob[10])\n",
    "    \"\"\"2\"\"\"\n",
    "    if is_sample:\n",
    "        top_indices = np.random.choice(vocab_size, beam_size, replace=False, p=np.exp(log_prob))\n",
    "    else:\n",
    "        top_indices = np.argsort(-log_prob)\n",
    "    \"\"\"3\"\"\"\n",
    "    beams = [(0.0, [idx_to_word[1]], idx_to_word[1], torch.zeros(1, topics.shape[1]), torch.ones(1, topics.shape[1]))]\n",
    "    b = beams[0]\n",
    "    beam_candidates = []\n",
    "#     print(attn_weight[0].cpu().data, coverage_vector)\n",
    "#     assert False\n",
    "    for i in range(beam_size):\n",
    "        word_idx = top_indices[i]\n",
    "        beam_candidates.append((b[0]+log_prob[word_idx], b[1]+[idx_to_word[word_idx]], word_idx, torch.cat((b[3], attn_weight[0].cpu().data), 0), torch.cat((b[4], coverage_vector.cpu().data), 0), hidden, output.squeeze(0), coverage_vector))\n",
    "    \"\"\"4\"\"\"\n",
    "    beam_candidates.sort(key = lambda x:x[0], reverse = True) # decreasing order\n",
    "    beams = beam_candidates[:beam_size] # truncate to get new beams\n",
    "    \n",
    "    for xy in range(num_chars-1):\n",
    "        beam_candidates = []\n",
    "        for b in beams:\n",
    "            \"\"\"5\"\"\"\n",
    "            X = torch.tensor(b[2]).reshape((1, 1)).to(device)\n",
    "            \"\"\"6\"\"\"\n",
    "            log_prob, output, hidden, attn_weight, coverage_vector = model.inference(inputs=X, \n",
    "                                                                           topics=topics, \n",
    "                                                                           output=b[6], \n",
    "                                                                           hidden=b[5], \n",
    "                                                                           coverage_vector=b[7], \n",
    "                                                                           seq_length=seq_length)\n",
    "            log_prob = log_prob.cpu().detach().reshape(-1).numpy()\n",
    "            \"\"\"8\"\"\"\n",
    "            if is_sample:\n",
    "                top_indices = np.random.choice(vocab_size, beam_size, replace=False, p=np.exp(log_prob))\n",
    "            else:\n",
    "                top_indices = np.argsort(-log_prob)\n",
    "            \"\"\"9\"\"\"\n",
    "            for i in range(beam_size):\n",
    "                word_idx = top_indices[i]\n",
    "                beam_candidates.append((b[0]+log_prob[word_idx], b[1]+[idx_to_word[word_idx]], word_idx, torch.cat((b[3], attn_weight[0].cpu().data), 0), torch.cat((b[4], coverage_vector.cpu().data), 0), hidden, output.squeeze(0), coverage_vector))\n",
    "        \"\"\"10\"\"\"\n",
    "        beam_candidates.sort(key = lambda x:x[0], reverse = True) # decreasing order\n",
    "        beams = beam_candidates[:beam_size] # truncate to get new beams\n",
    "    \n",
    "    \"\"\"11\"\"\"\n",
    "    if '<EOS>' in beams[0][1]:\n",
    "        first_eos = beams[0][1].index('<EOS>')\n",
    "    else:\n",
    "        first_eos = num_chars-1\n",
    "    return(''.join(beams[0][1][:first_eos]), beams[0][1][:first_eos], beams[0][3][:first_eos].t(), beams[0][4][:first_eos])"
   ]
  },
  {
   "cell_type": "markdown",
   "metadata": {},
   "source": [
    "## Attention visualization"
   ]
  },
  {
   "cell_type": "code",
   "execution_count": 22,
   "metadata": {},
   "outputs": [],
   "source": [
    "# plt.switch_backend('agg')\n",
    "import matplotlib.pyplot as plt\n",
    "import matplotlib.ticker as ticker\n",
    "    \n",
    "def showAttention(input_sentence, output_words, attentions):\n",
    "    # Set up figure with colorbar\n",
    "    fig = plt.figure()\n",
    "    ax = fig.subplots(1)\n",
    "#     cmap = 'bone'\n",
    "    cmap = 'viridis'\n",
    "    cax = ax.matshow(attentions.numpy(), cmap=cmap)\n",
    "    fig.colorbar(cax)\n",
    "\n",
    "    # Set up axes\n",
    "    ax.set_yticklabels([''] + input_sentence.split(' '), fontproperties=fontprop, fontsize=10)\n",
    "    ax.set_xticklabels([''] + output_words, fontproperties=fontprop, fontsize=10, rotation=45)\n",
    "\n",
    "    # Show label at every tick\n",
    "    ax.xaxis.set_major_locator(ticker.MultipleLocator(1))\n",
    "    ax.yaxis.set_major_locator(ticker.MultipleLocator(1))\n",
    "    \n",
    "    word_size = 0.5\n",
    "    fig.set_figheight(word_size * len(input_sentence.split(' ')))\n",
    "    fig.set_figwidth(word_size * len(output_words))\n",
    "    plt.show()\n",
    "\n",
    "def evaluateAndShowAttention(input_sentence, method='beam_search', is_sample=False):\n",
    "    if method == 'beam_search':\n",
    "        _, output_words, attentions, coverage_vector = beam_search(input_sentence, 100, model, idx_to_word, word_to_idx, is_sample=is_sample)\n",
    "    else:\n",
    "        _, output_words, attentions, _ = predict_rnn(input_sentence, 100, model, idx_to_word, word_to_idx)\n",
    "    print('input =', ' '.join(input_sentence))\n",
    "    print('output =', ' '.join(output_words))\n",
    "#     n_digits = 3\n",
    "#     coverage_vector = torch.round(coverage_vector * 10**n_digits) / (10**n_digits)\n",
    "#     coverage_vector=np.round(coverage_vector, n_digits)\n",
    "#     print(coverage_vector.numpy())\n",
    "    showAttention(' '.join(input_sentence), output_words, attentions)"
   ]
  },
  {
   "cell_type": "markdown",
   "metadata": {},
   "source": [
    "## Bleu score calculation"
   ]
  },
  {
   "cell_type": "code",
   "execution_count": 23,
   "metadata": {},
   "outputs": [
    {
     "name": "stdout",
     "output_type": "stream",
     "text": [
      "Looking in indexes: https://pypi.tuna.tsinghua.edu.cn/simple\n",
      "Requirement already satisfied: nltk in /opt/conda/lib/python3.8/site-packages (3.7)\n",
      "Requirement already satisfied: joblib in /opt/conda/lib/python3.8/site-packages (from nltk) (1.0.0)\n",
      "Requirement already satisfied: click in /opt/conda/lib/python3.8/site-packages (from nltk) (7.1.2)\n",
      "Requirement already satisfied: regex>=2021.8.3 in /opt/conda/lib/python3.8/site-packages (from nltk) (2022.3.15)\n",
      "Requirement already satisfied: tqdm in /opt/conda/lib/python3.8/site-packages (from nltk) (4.56.0)\n"
     ]
    }
   ],
   "source": [
    "# !pip install nltk -i https://pypi.tuna.tsinghua.edu.cn/simple"
   ]
  },
  {
   "cell_type": "code",
   "execution_count": 24,
   "metadata": {},
   "outputs": [],
   "source": [
    "from nltk.translate.bleu_score import sentence_bleu, corpus_bleu, SmoothingFunction\n",
    "\n",
    "def evaluate_bleu(model, topics_test, corpus_test, num_test, method='beam_search', is_sample=False):\n",
    "    bleu_2_score = 0\n",
    "    for i in tqdm(range(len(corpus_test[:num_test]))):\n",
    "        if method == 'beam_search':\n",
    "            _, output_words, _, _ = beam_search([idx_to_word[x] for x in topics_test[i]], 100, model, idx_to_word, word_to_idx, is_sample)\n",
    "        else:\n",
    "            _, output_words, _, _ = predict_rnn([idx_to_word[x] for x in topics_test[i]], 100, model, idx_to_word, word_to_idx)\n",
    "        bleu_2_score += sentence_bleu([[idx_to_word[x] for x in corpus_test[i] if x not in [0, 2]]], output_words, weights=(0, 1, 0, 0))\n",
    "        \n",
    "    bleu_2_score = bleu_2_score / num_test * 100\n",
    "    return bleu_2_score"
   ]
  },
  {
   "cell_type": "markdown",
   "metadata": {},
   "source": [
    "## Some configurations"
   ]
  },
  {
   "cell_type": "code",
   "execution_count": 25,
   "metadata": {},
   "outputs": [],
   "source": [
    "embedding_dim = 100\n",
    "hidden_dim = 512\n",
    "lr = 1e-3 * 0.5\n",
    "momentum = 0.01\n",
    "num_epoch = 20      ### TODO: 100\n",
    "clip_value = 0.1\n",
    "use_gpu = True     # can not be False\n",
    "num_layers = 2\n",
    "bidirectional = False\n",
    "batch_size = 32\n",
    "num_keywords = 5\n",
    "verbose = 1\n",
    "check_point = 5\n",
    "beam_size = 2\n",
    "is_sample = True\n",
    "vocab_size = len(vocab)\n",
    "# device = torch.device(deviceName)\n",
    "loss_function = nn.NLLLoss()\n",
    "adaptive_softmax = nn.AdaptiveLogSoftmaxWithLoss(\n",
    "    1000, len(vocab), cutoffs=[round(vocab_size / 20), 4*round(vocab_size / 20)])"
   ]
  },
  {
   "cell_type": "code",
   "execution_count": 26,
   "metadata": {},
   "outputs": [],
   "source": [
    "# config = {\n",
    "#     \"embedding_dim\": 100, \n",
    "#     \"hidden_dim\": 512, \n",
    "#     \"batch_size\": 64, \n",
    "#     \"num_keywords\": 5, \n",
    "#     \"lr\": 1e-3 * 0.5, \n",
    "#     \"momentum\": 0.01, \n",
    "#     \"num_epoch\": 100, \n",
    "#     \"clip_value\": 1, \n",
    "#     \"use_gpu\": True, \n",
    "#     \"num_layers\": 1, \n",
    "#     \"bidirectional\": False, \n",
    "#     \"verbose\": 1, \n",
    "#     \"check_point\": 5, \n",
    "#     \"beam_size\": 2, \n",
    "#     \"is_sample\": True, \n",
    "#     \"vocab_size\": len(vocab), \n",
    "#     \"device\": torch.device(deviceName)\n",
    "# }"
   ]
  },
  {
   "cell_type": "code",
   "execution_count": 27,
   "metadata": {},
   "outputs": [],
   "source": [
    "# https://github.com/LiyuanLucasLiu/RAdam\n",
    "\n",
    "import math\n",
    "import torch\n",
    "from torch.optim.optimizer import Optimizer, required\n",
    "\n",
    "class RAdam(Optimizer):\n",
    "\n",
    "    def __init__(self, params, lr=1e-3, betas=(0.9, 0.999), eps=1e-8, weight_decay=0, degenerated_to_sgd=False):\n",
    "        if not 0.0 <= lr:\n",
    "            raise ValueError(\"Invalid learning rate: {}\".format(lr))\n",
    "        if not 0.0 <= eps:\n",
    "            raise ValueError(\"Invalid epsilon value: {}\".format(eps))\n",
    "        if not 0.0 <= betas[0] < 1.0:\n",
    "            raise ValueError(\"Invalid beta parameter at index 0: {}\".format(betas[0]))\n",
    "        if not 0.0 <= betas[1] < 1.0:\n",
    "            raise ValueError(\"Invalid beta parameter at index 1: {}\".format(betas[1]))\n",
    "        \n",
    "        self.degenerated_to_sgd = degenerated_to_sgd\n",
    "        if isinstance(params, (list, tuple)) and len(params) > 0 and isinstance(params[0], dict):\n",
    "            for param in params:\n",
    "                if 'betas' in param and (param['betas'][0] != betas[0] or param['betas'][1] != betas[1]):\n",
    "                    param['buffer'] = [[None, None, None] for _ in range(10)]\n",
    "        defaults = dict(lr=lr, betas=betas, eps=eps, weight_decay=weight_decay, buffer=[[None, None, None] for _ in range(10)])\n",
    "        super(RAdam, self).__init__(params, defaults)\n",
    "\n",
    "    def __setstate__(self, state):\n",
    "        super(RAdam, self).__setstate__(state)\n",
    "\n",
    "    def step(self, closure=None):\n",
    "\n",
    "        loss = None\n",
    "        if closure is not None:\n",
    "            loss = closure()\n",
    "\n",
    "        for group in self.param_groups:\n",
    "\n",
    "            for p in group['params']:\n",
    "                if p.grad is None:\n",
    "                    continue\n",
    "                grad = p.grad.data.float()\n",
    "                if grad.is_sparse:\n",
    "                    raise RuntimeError('RAdam does not support sparse gradients')\n",
    "\n",
    "                p_data_fp32 = p.data.float()\n",
    "\n",
    "                state = self.state[p]\n",
    "\n",
    "                if len(state) == 0:\n",
    "                    state['step'] = 0\n",
    "                    state['exp_avg'] = torch.zeros_like(p_data_fp32)\n",
    "                    state['exp_avg_sq'] = torch.zeros_like(p_data_fp32)\n",
    "                else:\n",
    "                    state['exp_avg'] = state['exp_avg'].type_as(p_data_fp32)\n",
    "                    state['exp_avg_sq'] = state['exp_avg_sq'].type_as(p_data_fp32)\n",
    "\n",
    "                exp_avg, exp_avg_sq = state['exp_avg'], state['exp_avg_sq']\n",
    "                beta1, beta2 = group['betas']\n",
    "\n",
    "                exp_avg_sq.mul_(beta2).addcmul_(1 - beta2, grad, grad)\n",
    "                exp_avg.mul_(beta1).add_(1 - beta1, grad)\n",
    "\n",
    "                state['step'] += 1\n",
    "                buffered = group['buffer'][int(state['step'] % 10)]\n",
    "                if state['step'] == buffered[0]:\n",
    "                    N_sma, step_size = buffered[1], buffered[2]\n",
    "                else:\n",
    "                    buffered[0] = state['step']\n",
    "                    beta2_t = beta2 ** state['step']\n",
    "                    N_sma_max = 2 / (1 - beta2) - 1\n",
    "                    N_sma = N_sma_max - 2 * state['step'] * beta2_t / (1 - beta2_t)\n",
    "                    buffered[1] = N_sma\n",
    "\n",
    "                    # more conservative since it's an approximated value\n",
    "                    if N_sma >= 5:\n",
    "                        step_size = math.sqrt((1 - beta2_t) * (N_sma - 4) / (N_sma_max - 4) * (N_sma - 2) / N_sma * N_sma_max / (N_sma_max - 2)) / (1 - beta1 ** state['step'])\n",
    "                    elif self.degenerated_to_sgd:\n",
    "                        step_size = 1.0 / (1 - beta1 ** state['step'])\n",
    "                    else:\n",
    "                        step_size = -1\n",
    "                    buffered[2] = step_size\n",
    "\n",
    "                # more conservative since it's an approximated value\n",
    "                if N_sma >= 5:\n",
    "                    if group['weight_decay'] != 0:\n",
    "                        p_data_fp32.add_(-group['weight_decay'] * group['lr'], p_data_fp32)\n",
    "                    denom = exp_avg_sq.sqrt().add_(group['eps'])\n",
    "                    p_data_fp32.addcdiv_(-step_size * group['lr'], exp_avg, denom)\n",
    "                    p.data.copy_(p_data_fp32)\n",
    "                elif step_size > 0:\n",
    "                    if group['weight_decay'] != 0:\n",
    "                        p_data_fp32.add_(-group['weight_decay'] * group['lr'], p_data_fp32)\n",
    "                    p_data_fp32.add_(-step_size * group['lr'], exp_avg)\n",
    "                    p.data.copy_(p_data_fp32)\n",
    "\n",
    "        return loss\n",
    "\n",
    "class PlainRAdam(Optimizer):\n",
    "\n",
    "    def __init__(self, params, lr=1e-3, betas=(0.9, 0.999), eps=1e-8, weight_decay=0, degenerated_to_sgd=False):\n",
    "        if not 0.0 <= lr:\n",
    "            raise ValueError(\"Invalid learning rate: {}\".format(lr))\n",
    "        if not 0.0 <= eps:\n",
    "            raise ValueError(\"Invalid epsilon value: {}\".format(eps))\n",
    "        if not 0.0 <= betas[0] < 1.0:\n",
    "            raise ValueError(\"Invalid beta parameter at index 0: {}\".format(betas[0]))\n",
    "        if not 0.0 <= betas[1] < 1.0:\n",
    "            raise ValueError(\"Invalid beta parameter at index 1: {}\".format(betas[1]))\n",
    "                    \n",
    "        self.degenerated_to_sgd = degenerated_to_sgd\n",
    "        defaults = dict(lr=lr, betas=betas, eps=eps, weight_decay=weight_decay)\n",
    "\n",
    "        super(PlainRAdam, self).__init__(params, defaults)\n",
    "\n",
    "    def __setstate__(self, state):\n",
    "        super(PlainRAdam, self).__setstate__(state)\n",
    "\n",
    "    def step(self, closure=None):\n",
    "\n",
    "        loss = None\n",
    "        if closure is not None:\n",
    "            loss = closure()\n",
    "\n",
    "        for group in self.param_groups:\n",
    "\n",
    "            for p in group['params']:\n",
    "                if p.grad is None:\n",
    "                    continue\n",
    "                grad = p.grad.data.float()\n",
    "                if grad.is_sparse:\n",
    "                    raise RuntimeError('RAdam does not support sparse gradients')\n",
    "\n",
    "                p_data_fp32 = p.data.float()\n",
    "\n",
    "                state = self.state[p]\n",
    "\n",
    "                if len(state) == 0:\n",
    "                    state['step'] = 0\n",
    "                    state['exp_avg'] = torch.zeros_like(p_data_fp32)\n",
    "                    state['exp_avg_sq'] = torch.zeros_like(p_data_fp32)\n",
    "                else:\n",
    "                    state['exp_avg'] = state['exp_avg'].type_as(p_data_fp32)\n",
    "                    state['exp_avg_sq'] = state['exp_avg_sq'].type_as(p_data_fp32)\n",
    "\n",
    "                exp_avg, exp_avg_sq = state['exp_avg'], state['exp_avg_sq']\n",
    "                beta1, beta2 = group['betas']\n",
    "\n",
    "                exp_avg_sq.mul_(beta2).addcmul_(1 - beta2, grad, grad)\n",
    "                exp_avg.mul_(beta1).add_(1 - beta1, grad)\n",
    "\n",
    "                state['step'] += 1\n",
    "                beta2_t = beta2 ** state['step']\n",
    "                N_sma_max = 2 / (1 - beta2) - 1\n",
    "                N_sma = N_sma_max - 2 * state['step'] * beta2_t / (1 - beta2_t)\n",
    "\n",
    "\n",
    "                # more conservative since it's an approximated value\n",
    "                if N_sma >= 5:\n",
    "                    if group['weight_decay'] != 0:\n",
    "                        p_data_fp32.add_(-group['weight_decay'] * group['lr'], p_data_fp32)\n",
    "                    step_size = group['lr'] * math.sqrt((1 - beta2_t) * (N_sma - 4) / (N_sma_max - 4) * (N_sma - 2) / N_sma * N_sma_max / (N_sma_max - 2)) / (1 - beta1 ** state['step'])\n",
    "                    denom = exp_avg_sq.sqrt().add_(group['eps'])\n",
    "                    p_data_fp32.addcdiv_(-step_size, exp_avg, denom)\n",
    "                    p.data.copy_(p_data_fp32)\n",
    "                elif self.degenerated_to_sgd:\n",
    "                    if group['weight_decay'] != 0:\n",
    "                        p_data_fp32.add_(-group['weight_decay'] * group['lr'], p_data_fp32)\n",
    "                    step_size = group['lr'] / (1 - beta1 ** state['step'])\n",
    "                    p_data_fp32.add_(-step_size, exp_avg)\n",
    "                    p.data.copy_(p_data_fp32)\n",
    "\n",
    "        return loss\n",
    "\n",
    "\n",
    "class AdamW(Optimizer):\n",
    "\n",
    "    def __init__(self, params, lr=1e-3, betas=(0.9, 0.999), eps=1e-8, weight_decay=0, warmup = 0):\n",
    "        if not 0.0 <= lr:\n",
    "            raise ValueError(\"Invalid learning rate: {}\".format(lr))\n",
    "        if not 0.0 <= eps:\n",
    "            raise ValueError(\"Invalid epsilon value: {}\".format(eps))\n",
    "        if not 0.0 <= betas[0] < 1.0:\n",
    "            raise ValueError(\"Invalid beta parameter at index 0: {}\".format(betas[0]))\n",
    "        if not 0.0 <= betas[1] < 1.0:\n",
    "            raise ValueError(\"Invalid beta parameter at index 1: {}\".format(betas[1]))\n",
    "        \n",
    "        defaults = dict(lr=lr, betas=betas, eps=eps,\n",
    "                        weight_decay=weight_decay, warmup = warmup)\n",
    "        super(AdamW, self).__init__(params, defaults)\n",
    "\n",
    "    def __setstate__(self, state):\n",
    "        super(AdamW, self).__setstate__(state)\n",
    "\n",
    "    def step(self, closure=None):\n",
    "        loss = None\n",
    "        if closure is not None:\n",
    "            loss = closure()\n",
    "\n",
    "        for group in self.param_groups:\n",
    "\n",
    "            for p in group['params']:\n",
    "                if p.grad is None:\n",
    "                    continue\n",
    "                grad = p.grad.data.float()\n",
    "                if grad.is_sparse:\n",
    "                    raise RuntimeError('Adam does not support sparse gradients, please consider SparseAdam instead')\n",
    "\n",
    "                p_data_fp32 = p.data.float()\n",
    "\n",
    "                state = self.state[p]\n",
    "\n",
    "                if len(state) == 0:\n",
    "                    state['step'] = 0\n",
    "                    state['exp_avg'] = torch.zeros_like(p_data_fp32)\n",
    "                    state['exp_avg_sq'] = torch.zeros_like(p_data_fp32)\n",
    "                else:\n",
    "                    state['exp_avg'] = state['exp_avg'].type_as(p_data_fp32)\n",
    "                    state['exp_avg_sq'] = state['exp_avg_sq'].type_as(p_data_fp32)\n",
    "\n",
    "                exp_avg, exp_avg_sq = state['exp_avg'], state['exp_avg_sq']\n",
    "                beta1, beta2 = group['betas']\n",
    "\n",
    "                state['step'] += 1\n",
    "\n",
    "                exp_avg_sq.mul_(beta2).addcmul_(1 - beta2, grad, grad)\n",
    "                exp_avg.mul_(beta1).add_(1 - beta1, grad)\n",
    "\n",
    "                denom = exp_avg_sq.sqrt().add_(group['eps'])\n",
    "                bias_correction1 = 1 - beta1 ** state['step']\n",
    "                bias_correction2 = 1 - beta2 ** state['step']\n",
    "                \n",
    "                if group['warmup'] > state['step']:\n",
    "                    scheduled_lr = 1e-8 + state['step'] * group['lr'] / group['warmup']\n",
    "                else:\n",
    "                    scheduled_lr = group['lr']\n",
    "\n",
    "                step_size = scheduled_lr * math.sqrt(bias_correction2) / bias_correction1\n",
    "                \n",
    "                if group['weight_decay'] != 0:\n",
    "                    p_data_fp32.add_(-group['weight_decay'] * scheduled_lr, p_data_fp32)\n",
    "\n",
    "                p_data_fp32.addcdiv_(-step_size, exp_avg, denom)\n",
    "\n",
    "                p.data.copy_(p_data_fp32)\n",
    "\n",
    "        return loss"
   ]
  },
  {
   "cell_type": "code",
   "execution_count": 28,
   "metadata": {},
   "outputs": [
    {
     "name": "stdout",
     "output_type": "stream",
     "text": [
      "Dump to cpu\n"
     ]
    }
   ],
   "source": [
    "model = MTALSTM(hidden_dim=hidden_dim, embed_dim=embedding_dim, num_keywords=num_keywords, \n",
    "                num_layers=num_layers, num_labels=len(vocab), weight=word_vec, bidirectional=bidirectional)\n",
    "# optimizer = optim.SGD(model.parameters(), lr=lr, momentum=momentum)\n",
    "# optimizer = optim.Adam(model.parameters(), lr=lr)\n",
    "\n",
    "# from radam import RAdam\n",
    "optimizer = RAdam(model.parameters(), lr=lr)\n",
    "lr_scheduler = ReduceLROnPlateau(optimizer, mode='min', factor=0.4, patience=2, min_lr=1e-7, verbose=True)\n",
    "# optimizer = optim.Adadelta(model.parameters(), lr=lr)\n",
    "if use_gpu:\n",
    "#     model = nn.DataParallel(model)\n",
    "#     model = model.to(device)\n",
    "    model = model.to(device)\n",
    "    print(f\"Dump to {device}\")"
   ]
  },
  {
   "cell_type": "code",
   "execution_count": 29,
   "metadata": {
    "scrolled": true
   },
   "outputs": [
    {
     "data": {
      "text/plain": [
       "MTALSTM(\n",
       "  (embedding): Embedding(189613, 100)\n",
       "  (Uf): Linear(in_features=500, out_features=5, bias=False)\n",
       "  (decoder): AttentionDecoder(\n",
       "    (attention): Attention(\n",
       "      (Ua): Linear(in_features=100, out_features=512, bias=False)\n",
       "      (Wa): Linear(in_features=512, out_features=512, bias=False)\n",
       "      (va): Linear(in_features=512, out_features=1, bias=True)\n",
       "    )\n",
       "    (rnn): LSTM(200, 512, num_layers=2, dropout=0.5)\n",
       "  )\n",
       "  (adaptiveSoftmax): AdaptiveLogSoftmaxWithLoss(\n",
       "    (head): Linear(in_features=512, out_features=9483, bias=False)\n",
       "    (tail): ModuleList(\n",
       "      (0): Sequential(\n",
       "        (0): Linear(in_features=512, out_features=128, bias=False)\n",
       "        (1): Linear(in_features=128, out_features=28443, bias=False)\n",
       "      )\n",
       "      (1): Sequential(\n",
       "        (0): Linear(in_features=512, out_features=32, bias=False)\n",
       "        (1): Linear(in_features=32, out_features=151689, bias=False)\n",
       "      )\n",
       "    )\n",
       "  )\n",
       ")"
      ]
     },
     "execution_count": 29,
     "metadata": {},
     "output_type": "execute_result"
    }
   ],
   "source": [
    "def params_init_uniform(m):\n",
    "    if type(m) == nn.Linear:\n",
    "        y = 0.04\n",
    "        nn.init.uniform_(m.weight, -y, y)\n",
    "        \n",
    "model.apply(params_init_uniform)"
   ]
  },
  {
   "cell_type": "markdown",
   "metadata": {},
   "source": [
    "## Load previous checkpoint"
   ]
  },
  {
   "cell_type": "code",
   "execution_count": 30,
   "metadata": {},
   "outputs": [
    {
     "name": "stdout",
     "output_type": "stream",
     "text": [
      "Loading previous status (ver.small_20)...\n",
      "Load successfully\n"
     ]
    }
   ],
   "source": [
    "version_name = 'small'      ### TODO\n",
    "version_epoch_num = 20      ### TODO\n",
    "Type = 'trainable'          ### TODO\n",
    "# Type = 'best'\n",
    "\n",
    "def check_point_path(obj_name, save_folder, Type, version_name, epoch_num):\n",
    "    return f'{save_folder}/{version_name}_{epoch_num}_{Type}_{obj_name}.pt'\n",
    "\n",
    "# model_check_point = '%s/model_%s_%d.pk' % (save_folder, Type, version_num)\n",
    "# optim_check_point = '%s/optim_%s_%d.pkl' % (save_folder, Type, version_num)\n",
    "# loss_check_point = '%s/loss_%s_%d.pkl' % (save_folder, Type, version_num)\n",
    "# epoch_check_point = '%s/epoch_%s_%d.pkl' % (save_folder, Type, version_num)\n",
    "# bleu_check_point = '%s/bleu_%s_%d.pkl' % (save_folder, Type, version_num)\n",
    "\n",
    "model_check_point = check_point_path('model', save_folder, Type, version_name, version_epoch_num)\n",
    "optim_check_point = check_point_path('optim', save_folder, Type, version_name, version_epoch_num)\n",
    "loss_check_point = check_point_path('loss', save_folder, Type, version_name, version_epoch_num)\n",
    "epoch_check_point = check_point_path('epoch', save_folder, Type, version_name, version_epoch_num)\n",
    "bleu_check_point = check_point_path('bleu', save_folder, Type, version_name, version_epoch_num)\n",
    "\n",
    "loss_values = []\n",
    "epoch_values = []\n",
    "bleu_values = []\n",
    "\n",
    "if os.path.isfile(model_check_point):\n",
    "    print(f'Loading previous status (ver.{version_name}_{version_epoch_num})...')\n",
    "    model.load_state_dict(torch.load(model_check_point, map_location='cpu'))\n",
    "    model = model.to(device)\n",
    "    optimizer.load_state_dict(torch.load(optim_check_point))\n",
    "    lr_scheduler = ReduceLROnPlateau(optimizer, mode='min', factor=0.4, patience=2, min_lr=1e-7, verbose=True)\n",
    "    loss_values = torch.load(loss_check_point)\n",
    "    epoch_values = torch.load(epoch_check_point)\n",
    "    bleu_values = torch.load(bleu_check_point)\n",
    "    print('Load successfully')\n",
    "else:\n",
    "    print(f\"ver.{version_name}_{version_epoch_num} doesn't exist\")"
   ]
  },
  {
   "cell_type": "code",
   "execution_count": 31,
   "metadata": {},
   "outputs": [
    {
     "name": "stdout",
     "output_type": "stream",
     "text": [
      "input = 现在 未来 梦想 科学 文化\n",
      "output = <BOS> 甚至 有 个 人 说 过 很多 时间 ， 心里 觉得 不 是 让 自己 想 的 终究 ， 就 像 一 秒 钟 ， 从 了 一 句 ， 就 躺 到 了 一 遍 ， 一个 在 高中 后 了 学 了 一 年 前 ， 一 天 走 了 ， 本来 时间 了 。 今天 了 暑假 高三 ， <UNK> 数学 ， <UNK> <UNK> 过 书 ， 突然 的 现在 在 是 大 的 脚步 ， <UNK> 四 天 ， 简单 知识 也 是 有 一 步 ， 想 看 完 ， 我 有 <UNK>\n"
     ]
    },
    {
     "name": "stderr",
     "output_type": "stream",
     "text": [
      "<ipython-input-22-54bdfb19faf5>:15: UserWarning: FixedFormatter should only be used together with FixedLocator\n",
      "  ax.set_yticklabels([''] + input_sentence.split(' '), fontproperties=fontprop, fontsize=10)\n",
      "<ipython-input-22-54bdfb19faf5>:16: UserWarning: FixedFormatter should only be used together with FixedLocator\n",
      "  ax.set_xticklabels([''] + output_words, fontproperties=fontprop, fontsize=10, rotation=45)\n"
     ]
    },
    {
     "data": {
      "image/png": "[encoded data removed]",
      "text/plain": [
       "<Figure size 3564x180 with 2 Axes>"
      ]
     },
     "metadata": {
      "needs_background": "light"
     },
     "output_type": "display_data"
    }
   ],
   "source": [
    "evaluateAndShowAttention(['现在', '未来', '梦想', '科学', '文化'], method='beam_search', is_sample=True)"
   ]
  },
  {
   "cell_type": "code",
   "execution_count": 32,
   "metadata": {
    "scrolled": true
   },
   "outputs": [
    {
     "name": "stdout",
     "output_type": "stream",
     "text": [
      "Uf.weight Parameter containing:\n",
      "tensor([[ 0.0139, -0.0079,  0.0690,  ...,  0.0168,  0.0311, -0.0471],\n",
      "        [-0.0171,  0.0392, -0.1566,  ..., -0.0052, -0.0110,  0.0533],\n",
      "        [-0.0310, -0.0447,  0.0552,  ...,  0.0029, -0.0017, -0.0571],\n",
      "        [-0.0460,  0.1154, -0.0940,  ...,  0.1843,  0.2244, -0.0269],\n",
      "        [-0.0213,  0.1204, -0.1223,  ..., -0.0010, -0.0819,  0.2537]],\n",
      "       requires_grad=True)\n",
      "decoder.attention.Ua.weight Parameter containing:\n",
      "tensor([[ 0.0383,  0.0623, -0.0640,  ..., -0.0118, -0.0388,  0.0020],\n",
      "        [-0.0371, -0.0004,  0.0017,  ...,  0.0299,  0.0349,  0.0267],\n",
      "        [-0.0960,  0.0162, -0.0186,  ...,  0.0648,  0.1845,  0.0303],\n",
      "        ...,\n",
      "        [ 0.1022,  0.0043, -0.0691,  ..., -0.0043, -0.1024,  0.0078],\n",
      "        [-0.1232,  0.0572, -0.0183,  ...,  0.0439,  0.1688,  0.0470],\n",
      "        [-0.0680, -0.0470,  0.0647,  ...,  0.0244,  0.0787,  0.0610]],\n",
      "       requires_grad=True)\n",
      "decoder.attention.Wa.weight Parameter containing:\n",
      "tensor([[-0.0018, -0.0280,  0.0574,  ..., -0.0143,  0.0301,  0.0152],\n",
      "        [-0.0092,  0.0037, -0.0013,  ..., -0.0063,  0.0121,  0.0730],\n",
      "        [ 0.0094, -0.0476, -0.0090,  ..., -0.0634,  0.0517, -0.0071],\n",
      "        ...,\n",
      "        [-0.0649,  0.0430, -0.0338,  ...,  0.0243, -0.0453, -0.0372],\n",
      "        [ 0.0297, -0.0474, -0.0011,  ..., -0.0061,  0.1090,  0.0614],\n",
      "        [-0.0393,  0.0373, -0.0354,  ..., -0.0170, -0.0257,  0.0274]],\n",
      "       requires_grad=True)\n",
      "decoder.attention.va.weight Parameter containing:\n",
      "tensor([[ 0.1468, -0.1350, -0.0742,  0.1473, -0.0723, -0.0898,  0.1424, -0.1233,\n",
      "          0.0788, -0.0870,  0.1554, -0.1038, -0.1385,  0.0920, -0.0104, -0.1199,\n",
      "         -0.1338,  0.0844,  0.1411, -0.0673, -0.1013, -0.0829,  0.1640, -0.0627,\n",
      "         -0.1596,  0.1025, -0.1121, -0.0143, -0.1348, -0.1045, -0.0879, -0.0977,\n",
      "         -0.0086,  0.1014,  0.0349,  0.1406,  0.1643,  0.1096, -0.0733,  0.0790,\n",
      "          0.0775, -0.0872,  0.1246,  0.0951, -0.1234, -0.0648,  0.0933, -0.0975,\n",
      "         -0.0716, -0.0825,  0.0437,  0.1333, -0.1056,  0.1012, -0.0977, -0.0975,\n",
      "          0.0535,  0.1273, -0.0369, -0.0322, -0.0838,  0.0988,  0.0981,  0.0769,\n",
      "         -0.0620,  0.0004, -0.1514, -0.1400,  0.1539,  0.1029, -0.0638,  0.0945,\n",
      "         -0.0838,  0.1052, -0.0518, -0.1485,  0.1132, -0.0962,  0.0364,  0.1502,\n",
      "          0.0113,  0.0981,  0.0929, -0.0856, -0.0560, -0.0956, -0.0686,  0.0611,\n",
      "          0.0733,  0.1160,  0.0773,  0.0519,  0.0365, -0.0741,  0.0833,  0.0930,\n",
      "         -0.0909, -0.0956,  0.0969, -0.0769, -0.1255, -0.1086,  0.1242, -0.0815,\n",
      "          0.0239,  0.0787, -0.0607, -0.0869, -0.0700,  0.1237, -0.1831, -0.0980,\n",
      "         -0.0879,  0.1248,  0.1067,  0.0695, -0.1409, -0.0617,  0.0844,  0.0398,\n",
      "          0.1004, -0.1389, -0.1132,  0.0182,  0.0866,  0.0208,  0.0545, -0.1466,\n",
      "          0.0779, -0.0875, -0.0965,  0.1314, -0.1366,  0.1307,  0.0588, -0.1725,\n",
      "          0.1073, -0.1532, -0.1267,  0.0646, -0.0510,  0.0426,  0.0105,  0.1291,\n",
      "         -0.0613,  0.1006,  0.1468, -0.0510,  0.0611, -0.1679,  0.1239,  0.0827,\n",
      "         -0.0377,  0.1355,  0.1265,  0.0702, -0.1228,  0.0836, -0.0733, -0.1176,\n",
      "          0.0391,  0.0883,  0.0830,  0.1020,  0.1462, -0.1005,  0.0978,  0.1345,\n",
      "         -0.0962, -0.1523, -0.1326, -0.0969,  0.0653, -0.1486, -0.0431,  0.0761,\n",
      "          0.0325, -0.0816, -0.1343,  0.1446, -0.1222,  0.1082,  0.1192, -0.0988,\n",
      "          0.0339,  0.1412,  0.0735,  0.0046,  0.1204,  0.1043, -0.1105,  0.0138,\n",
      "         -0.0711,  0.1134, -0.1406, -0.1410,  0.0880,  0.0819,  0.0423,  0.1203,\n",
      "         -0.0585,  0.0420,  0.0181,  0.1384, -0.1028,  0.0976,  0.1039, -0.0085,\n",
      "         -0.0808, -0.1136, -0.1437,  0.0564, -0.0923, -0.0347, -0.0706,  0.0685,\n",
      "          0.0444, -0.0067,  0.0514,  0.1440, -0.0463,  0.1005, -0.0744,  0.1637,\n",
      "         -0.1263, -0.0670, -0.0721,  0.0945,  0.1091,  0.1259, -0.1355,  0.0973,\n",
      "          0.0958,  0.0975, -0.0330, -0.1624, -0.0643,  0.0649, -0.1393, -0.0114,\n",
      "         -0.0534,  0.1206, -0.0647, -0.0745,  0.1261,  0.0864, -0.1495, -0.0937,\n",
      "         -0.0456, -0.0303, -0.1366,  0.1371,  0.0902, -0.0676, -0.1372,  0.1026,\n",
      "         -0.1235,  0.0600,  0.1528,  0.1471,  0.0853, -0.1553,  0.1078,  0.1235,\n",
      "         -0.1513,  0.1533,  0.1007,  0.1698,  0.1305, -0.1531,  0.1254, -0.1389,\n",
      "         -0.0847, -0.0802, -0.0724,  0.0596, -0.1369,  0.0998, -0.1003,  0.1482,\n",
      "          0.0646,  0.0093, -0.1220,  0.1438, -0.1107,  0.0633, -0.1307, -0.0801,\n",
      "          0.0439,  0.1664,  0.1400,  0.0040, -0.1696, -0.0767,  0.1186,  0.1094,\n",
      "          0.1562,  0.0680, -0.1722, -0.0979,  0.0960, -0.0576,  0.1297,  0.1133,\n",
      "          0.1008, -0.0830,  0.1262, -0.0859,  0.0421,  0.1307,  0.0758, -0.1644,\n",
      "         -0.0411,  0.0364,  0.1296, -0.0657, -0.0549, -0.1124,  0.1407, -0.1076,\n",
      "         -0.1694,  0.0726,  0.0932,  0.0321,  0.0543,  0.0626,  0.0737, -0.0426,\n",
      "          0.0935, -0.0705, -0.0973,  0.1596, -0.1432,  0.1557,  0.0034, -0.1382,\n",
      "          0.0712, -0.1553, -0.1662, -0.0925,  0.0690,  0.1499,  0.1403,  0.0934,\n",
      "          0.1552, -0.1326, -0.0757, -0.1332, -0.0966, -0.0953,  0.1113, -0.0745,\n",
      "         -0.0376,  0.1025, -0.0826,  0.1193,  0.1014, -0.0955,  0.0929,  0.0274,\n",
      "          0.1249,  0.0872,  0.0806, -0.0967, -0.0893, -0.0867, -0.1655,  0.1465,\n",
      "         -0.1474, -0.1365, -0.1025,  0.0837,  0.0450,  0.1165, -0.0524,  0.0828,\n",
      "         -0.0406,  0.1189,  0.1416, -0.1040,  0.1535,  0.1033,  0.0559, -0.1348,\n",
      "         -0.0980,  0.1009, -0.0052, -0.1346, -0.0938, -0.0922, -0.1280,  0.1654,\n",
      "          0.0356, -0.1260,  0.0825, -0.0937,  0.0670, -0.0930, -0.0971,  0.1310,\n",
      "         -0.0865, -0.1382, -0.1167,  0.0403,  0.1031, -0.1136, -0.1097,  0.0841,\n",
      "          0.1018,  0.1339, -0.1641,  0.0969,  0.0531,  0.0371,  0.0887, -0.0970,\n",
      "          0.0758,  0.0765,  0.0163,  0.0702, -0.0837,  0.1303, -0.1178, -0.1444,\n",
      "         -0.1354,  0.0541,  0.1418,  0.1032,  0.1435,  0.1096, -0.1379,  0.0272,\n",
      "          0.1378, -0.0675, -0.1227,  0.0553,  0.0877, -0.1201,  0.0646, -0.0997,\n",
      "          0.1227, -0.1141,  0.0868,  0.0707,  0.0425,  0.0177, -0.0783,  0.0842,\n",
      "          0.0245,  0.1164, -0.1494,  0.0681,  0.1347,  0.1502,  0.1425, -0.0427,\n",
      "         -0.1258,  0.0928, -0.1524, -0.0900,  0.1530, -0.0905, -0.0906, -0.1450,\n",
      "          0.1047,  0.0816, -0.1320, -0.0805, -0.0420,  0.0986,  0.1341, -0.1000,\n",
      "          0.1066, -0.0758,  0.1600, -0.0852,  0.1259, -0.0913,  0.1068, -0.1567,\n",
      "          0.0469, -0.0982, -0.1147,  0.0461, -0.1356, -0.1171,  0.0876, -0.1290,\n",
      "          0.0708, -0.1432, -0.1649,  0.0227,  0.1546,  0.0976,  0.0268, -0.0627,\n",
      "         -0.1130, -0.1252, -0.0268,  0.1602, -0.1415,  0.1380, -0.1093,  0.0166,\n",
      "         -0.1575,  0.0880,  0.0880, -0.1096,  0.1713,  0.0727, -0.0799, -0.1295]],\n",
      "       requires_grad=True)\n",
      "decoder.attention.va.bias Parameter containing:\n",
      "tensor([0.0882], requires_grad=True)\n",
      "decoder.rnn.weight_ih_l0 Parameter containing:\n",
      "tensor([[-1.4584e-01,  1.2202e-04,  9.8566e-02,  ...,  1.3421e-02,\n",
      "          5.3185e-02,  1.6841e-02],\n",
      "        [-6.6110e-02,  1.5945e-02,  2.8934e-02,  ...,  1.1687e-02,\n",
      "         -5.0712e-02, -6.3428e-02],\n",
      "        [-4.7923e-01, -2.0360e-01,  1.1804e-01,  ...,  1.2638e-02,\n",
      "         -6.5271e-02, -6.5937e-02],\n",
      "        ...,\n",
      "        [ 1.4528e-01,  8.0033e-02, -6.7669e-02,  ..., -3.7910e-02,\n",
      "          2.9485e-02,  7.5925e-02],\n",
      "        [-4.0107e-01,  1.3027e-02,  1.0540e-01,  ..., -8.2416e-02,\n",
      "          3.8992e-02,  6.7810e-02],\n",
      "        [-1.1951e-01, -2.4765e-01,  5.8380e-02,  ...,  3.3707e-02,\n",
      "          7.0896e-02, -1.1916e-01]], requires_grad=True)\n",
      "decoder.rnn.weight_hh_l0 Parameter containing:\n",
      "tensor([[-5.8306e-02, -7.3059e-04, -2.6474e-02,  ..., -2.1035e-03,\n",
      "         -8.0227e-02,  6.6388e-05],\n",
      "        [-6.2218e-02,  3.9312e-02, -5.0480e-03,  ..., -7.2251e-02,\n",
      "          6.5869e-02,  1.0392e-02],\n",
      "        [-9.1871e-02,  8.1289e-02,  3.6325e-02,  ...,  5.8471e-02,\n",
      "          3.0005e-02, -2.8214e-02],\n",
      "        ...,\n",
      "        [ 5.4732e-02,  1.7316e-02, -5.1336e-02,  ..., -1.4878e-02,\n",
      "         -3.6453e-02, -2.4740e-02],\n",
      "        [-8.5235e-03, -5.4614e-03, -2.4523e-02,  ...,  8.1564e-02,\n",
      "         -8.4397e-02, -1.5168e-01],\n",
      "        [-7.0619e-02, -7.0279e-03, -9.4933e-02,  ...,  1.4560e-02,\n",
      "         -1.6490e-02, -7.8710e-02]], requires_grad=True)\n",
      "decoder.rnn.bias_ih_l0 Parameter containing:\n",
      "tensor([-0.0012,  0.0119,  0.0328,  ..., -0.0272,  0.0365,  0.0736],\n",
      "       requires_grad=True)\n",
      "decoder.rnn.bias_hh_l0 Parameter containing:\n",
      "tensor([ 0.0212,  0.0258,  0.1115,  ..., -0.0006,  0.0714, -0.0138],\n",
      "       requires_grad=True)\n",
      "decoder.rnn.weight_ih_l1 Parameter containing:\n",
      "tensor([[-0.0414,  0.0192,  0.0102,  ...,  0.0175,  0.0028, -0.0333],\n",
      "        [-0.0843,  0.0581,  0.1316,  ...,  0.1228,  0.1465, -0.0275],\n",
      "        [-0.0415,  0.0894, -0.0112,  ...,  0.0400,  0.0271,  0.0125],\n",
      "        ...,\n",
      "        [-0.0095,  0.0511, -0.2851,  ..., -0.1853, -0.1486, -0.0251],\n",
      "        [-0.0479,  0.0484,  0.0177,  ...,  0.0517,  0.0997,  0.0440],\n",
      "        [-0.0565,  0.1512,  0.0628,  ..., -0.1161,  0.0852,  0.0292]],\n",
      "       requires_grad=True)\n",
      "decoder.rnn.weight_hh_l1 Parameter containing:\n",
      "tensor([[-3.6882e-02,  2.7000e-02, -1.6619e-02,  ...,  2.9330e-03,\n",
      "         -1.7063e-02,  1.0985e-02],\n",
      "        [ 4.7120e-02, -7.2200e-02,  7.5749e-02,  ...,  1.0575e-02,\n",
      "          1.4013e-02,  1.1026e-02],\n",
      "        [-3.9017e-02,  1.1340e-02,  4.1188e-02,  ..., -1.0620e-02,\n",
      "         -2.9313e-02, -5.5169e-02],\n",
      "        ...,\n",
      "        [-2.2081e-02, -1.0554e-02,  1.5659e-02,  ...,  7.1207e-02,\n",
      "          3.0715e-02,  6.2237e-02],\n",
      "        [-2.8070e-02,  2.0224e-02,  5.7405e-02,  ...,  1.2015e-02,\n",
      "         -8.5932e-02, -6.2934e-02],\n",
      "        [ 5.4036e-02, -9.9038e-02, -9.8908e-02,  ...,  3.5695e-02,\n",
      "         -6.5766e-05, -7.5417e-02]], requires_grad=True)\n",
      "decoder.rnn.bias_ih_l1 Parameter containing:\n",
      "tensor([-0.0112,  0.0057,  0.0676,  ...,  0.0377,  0.1290,  0.0022],\n",
      "       requires_grad=True)\n",
      "decoder.rnn.bias_hh_l1 Parameter containing:\n",
      "tensor([ 0.0471, -0.0141, -0.0017,  ...,  0.0331,  0.0930,  0.0202],\n",
      "       requires_grad=True)\n",
      "adaptiveSoftmax.head.weight Parameter containing:\n",
      "tensor([[ 0.2068, -0.0397,  0.1407,  ..., -0.1435,  0.2461,  0.1318],\n",
      "        [ 0.0353, -0.0261, -0.0171,  ..., -0.0578,  0.2382,  0.1892],\n",
      "        [ 0.0407,  0.0364, -0.0748,  ..., -0.0290,  0.0610, -0.0624],\n",
      "        ...,\n",
      "        [ 0.0362, -0.0092, -0.0769,  ..., -0.0713,  0.2435,  0.1658],\n",
      "        [-0.0598, -0.0037,  0.0990,  ...,  0.0545,  0.0063, -0.0480],\n",
      "        [-0.0213, -0.0259,  0.0635,  ...,  0.0732,  0.0730, -0.0748]],\n",
      "       requires_grad=True)\n",
      "adaptiveSoftmax.tail.0.0.weight Parameter containing:\n",
      "tensor([[-0.1143,  0.2766, -0.0476,  ...,  0.0461,  0.0939, -0.0734],\n",
      "        [ 0.1025, -0.0681,  0.0445,  ...,  0.0752, -0.0729,  0.0593],\n",
      "        [ 0.0471,  0.1336, -0.0488,  ..., -0.0359, -0.0746, -0.0048],\n",
      "        ...,\n",
      "        [-0.0142,  0.0901, -0.0333,  ..., -0.1286,  0.0359,  0.0377],\n",
      "        [-0.0510, -0.0415, -0.0194,  ...,  0.0056, -0.0654,  0.0723],\n",
      "        [ 0.0485, -0.0682,  0.0094,  ...,  0.0626, -0.0444, -0.0263]],\n",
      "       requires_grad=True)\n",
      "adaptiveSoftmax.tail.0.1.weight Parameter containing:\n",
      "tensor([[ 0.0392, -0.0398,  0.0324,  ..., -0.0191, -0.0462, -0.0541],\n",
      "        [-0.0493, -0.1226, -0.0834,  ...,  0.0998, -0.0666,  0.5434],\n",
      "        [-0.0475, -0.0973, -0.0642,  ...,  0.0410, -0.0559,  0.5447],\n",
      "        ...,\n",
      "        [-0.0733, -0.0799, -0.1134,  ...,  0.0307, -0.0328,  0.4885],\n",
      "        [-0.0160, -0.0836, -0.1098,  ...,  0.0388, -0.0459,  0.5219],\n",
      "        [-0.0608, -0.1160, -0.1160,  ...,  0.0409, -0.0490,  0.5657]],\n",
      "       requires_grad=True)\n",
      "adaptiveSoftmax.tail.1.0.weight Parameter containing:\n",
      "tensor([[ 0.0797,  0.0697, -0.3612,  ..., -0.0216, -0.0693, -0.2201],\n",
      "        [ 0.0910,  0.5007, -0.2229,  ...,  0.0785,  0.0478,  0.0034],\n",
      "        [ 0.4586,  0.0164,  0.1822,  ...,  0.0450,  0.4604,  0.1124],\n",
      "        ...,\n",
      "        [-0.0547, -0.2201,  0.2315,  ...,  0.2090, -0.1249,  0.1890],\n",
      "        [ 0.0079,  0.2818, -0.0332,  ..., -0.1661, -0.2457, -0.2152],\n",
      "        [ 0.0393, -0.4263, -0.0444,  ..., -0.0470, -0.4441, -0.1817]],\n",
      "       requires_grad=True)\n",
      "adaptiveSoftmax.tail.1.1.weight Parameter containing:\n",
      "tensor([[ 0.1375,  0.0981, -0.0668,  ...,  0.1865,  0.0601, -0.0745],\n",
      "        [ 0.1357,  0.1115, -0.0524,  ...,  0.1746,  0.0831, -0.0704],\n",
      "        [ 0.1303,  0.1165, -0.0526,  ...,  0.1563,  0.0423, -0.0878],\n",
      "        ...,\n",
      "        [ 0.1021,  0.1182, -0.0936,  ...,  0.1957,  0.0637, -0.0929],\n",
      "        [ 0.1319,  0.1428, -0.1033,  ...,  0.2243,  0.0990, -0.0734],\n",
      "        [ 0.0269, -0.0202, -0.0189,  ...,  0.0261,  0.0063, -0.1213]],\n",
      "       requires_grad=True)\n"
     ]
    }
   ],
   "source": [
    "def isnan(x):\n",
    "    return x != x\n",
    "\n",
    "for name, p in model.named_parameters():\n",
    "#     if p.grad is None:\n",
    "#         continue\n",
    "    if p.requires_grad:\n",
    "        print(name, p)\n",
    "#         p.register_hook(lambda grad: torch.clamp(grad, -clip_value, clip_value))"
   ]
  },
  {
   "cell_type": "code",
   "execution_count": 33,
   "metadata": {},
   "outputs": [],
   "source": [
    "def decay_lr(optimizer, epoch, factor=0.1, lr_decay_epoch=60):\n",
    "    if epoch % lr_decay_epoch == 0:\n",
    "        for param_group in optimizer.param_groups:\n",
    "            param_group['lr'] = param_group['lr'] * factor\n",
    "        print('lr decayed to %.4f' % optimizer.param_group[0]['lr'])\n",
    "    return optimizer"
   ]
  },
  {
   "cell_type": "markdown",
   "metadata": {},
   "source": [
    "## Train the model"
   ]
  },
  {
   "cell_type": "code",
   "execution_count": 34,
   "metadata": {
    "scrolled": true
   },
   "outputs": [],
   "source": [
    "since = time.time()\n",
    "autograd.set_detect_anomaly(False)\n",
    "prev_epoch = 0 if not epoch_values else epoch_values[-1]\n",
    "best_bleu = 0 if not bleu_values else max(bleu_values)\n",
    "\n",
    "\n",
    "def save_check_point(model, optimizer, loss_values, epoch_values, bleu_values, save_folder, Type, version_name, epoch_num):\n",
    "    model_check_point = check_point_path('model', save_folder, Type, version_name, epoch_num)\n",
    "    optim_check_point = check_point_path('optim', save_folder, Type, version_name, epoch_num)\n",
    "    loss_check_point = check_point_path('loss', save_folder, Type, version_name, epoch_num)\n",
    "    epoch_check_point = check_point_path('epoch', save_folder, Type, version_name, epoch_num)\n",
    "    bleu_check_point = check_point_path('bleu', save_folder, Type, version_name, epoch_num)\n",
    "    \n",
    "    torch.save(model.state_dict(), model_check_point)\n",
    "    torch.save(optimizer.state_dict(), optim_check_point)\n",
    "    torch.save(loss_values, loss_check_point)\n",
    "    torch.save(epoch_values, epoch_check_point)\n",
    "    torch.save(bleu_values, bleu_check_point)\n",
    "\n",
    "\n",
    "for epoch in range(num_epoch - prev_epoch):\n",
    "    epoch += prev_epoch\n",
    "    start = time.time()\n",
    "    num, total_loss = 0, 0\n",
    "#     optimizer = decay_lr(optimizer=optimizer, epoch=epoch+1)\n",
    "    topics_indice, corpus_indice = shuffleData(topics_indice, corpus_indice) # shuffle data at every epoch\n",
    "    data = data_iterator(corpus_indice, topics_indice, batch_size, max(length) + 1)\n",
    "    hidden = model.init_hidden(batch_size=batch_size)\n",
    "    weight = torch.ones(len(vocab))\n",
    "    weight[0] = 0\n",
    "    num_iter = len(corpus_indice) // batch_size\n",
    "    for X, Y, mask, topics in tqdm(data, total=num_iter):\n",
    "        num += 1\n",
    "#         hidden.detach_()\n",
    "        if use_gpu:\n",
    "            X = X.to(device)\n",
    "            Y = Y.to(device)\n",
    "            mask = mask.to(device)\n",
    "            topics = topics.to(device)\n",
    "#             hidden = hidden.to(device)\n",
    "#             hidden[0].to(device)\n",
    "#             hidden[1].to(device)\n",
    "            loss_function = loss_function.to(device)\n",
    "            weight = weight.to(device)\n",
    "        optimizer.zero_grad()\n",
    "        # init hidden layer\n",
    "#         hidden = model.init_hidden(num_layers, batch_size, hidden_dim)\n",
    "        coverage_vector = model.init_coverage_vector(batch_size, num_keywords)\n",
    "        init_output = torch.zeros(batch_size, hidden_dim).to(device)\n",
    "        # inputs, topics, output, hidden=None, mask=None, target=None, coverage_vector=None, seq_length=None):\n",
    "        output, _, hidden, _, _ = model(inputs=X, topics=topics, output=init_output, hidden=hidden, mask=mask, target=Y, coverage_vector=coverage_vector)\n",
    "#         output, hidden = model(X, topics)\n",
    "        hidden[0].detach_()\n",
    "        hidden[1].detach_()\n",
    "        \n",
    "        loss = (-output.output).reshape((-1, batch_size)).t() * mask\n",
    "#         loss = loss.sum(dim=1)\n",
    "        loss = loss.sum(dim=1) / mask.sum(dim=1)\n",
    "        loss = loss.mean()\n",
    "        loss.backward()\n",
    "        \n",
    "        norm = 0.0\n",
    "#         norm = nn.utils.clip_grad_norm_(model.parameters(), 10)\n",
    "        nn.utils.clip_grad_value_(model.parameters(), 1)\n",
    "            \n",
    "        optimizer.step()\n",
    "        total_loss += float(loss.item())\n",
    "        \n",
    "        if np.isnan(total_loss):\n",
    "            for name, p in model.named_parameters():\n",
    "                if p.grad is None:\n",
    "                    continue \n",
    "                print(name, p)\n",
    "            assert False, \"Gradient explode\"\n",
    "    \n",
    "    one_iter_loss = np.mean(total_loss)\n",
    "    lr_scheduler.step(one_iter_loss)\n",
    "#     print(\"One iteration loss {:.3f}\".format(one_iter_loss))\n",
    "    \n",
    "    # validation\n",
    "    bleu_score = 0\n",
    "    num_test = 500\n",
    "    bleu_score = evaluate_bleu(model, topics_test, corpus_test, num_test=num_test, method='predict_rnn', is_sample=True)\n",
    "    \n",
    "    bleu_values.append(bleu_score)\n",
    "    loss_values.append(total_loss / num)\n",
    "    epoch_values.append(epoch+1)\n",
    "    \n",
    "    # save checkpoint\n",
    "    if ((epoch + 1) % check_point == 0) or (epoch == (num_epoch - 1)) or epoch+1 > (num_epoch*0.9) or bleu_score > 4:\n",
    "        # model_check_point = '%s/model_trainable_%d.pk' % (save_folder, epoch+1)\n",
    "        # optim_check_point = '%s/optim_trainable_%d.pkl' % (save_folder, epoch+1)\n",
    "        # loss_check_point = '%s/loss_trainable_%d.pkl' % (save_folder, epoch+1)\n",
    "        # epoch_check_point = '%s/epoch_trainable_%d.pkl' % (save_folder, epoch+1)\n",
    "        # bleu_check_point = '%s/bleu_trainable_%d.pkl' % (save_folder, epoch+1)\n",
    "        # \n",
    "        # torch.save(model.state_dict(), model_check_point)\n",
    "        # torch.save(optimizer.state_dict(), optim_check_point)\n",
    "        # torch.save(loss_values, loss_check_point)\n",
    "        # torch.save(epoch_values, epoch_check_point)\n",
    "        # torch.save(bleu_values, bleu_check_point)\n",
    "        save_check_point(model, optimizer, loss_values, epoch_values, bleu_values, save_folder, 'trainable', version_name, epoch+1)\n",
    "    \n",
    "    # save current best result\n",
    "    if bleu_score > best_bleu:\n",
    "        best_bleu = bleu_score\n",
    "        print('current best bleu: %.4f' % best_bleu)\n",
    "        \n",
    "        # model_check_point = '%s/model_best_%d.pk' % (save_folder, epoch+1)\n",
    "        # optim_check_point = '%s/optim_best_%d.pkl' % (save_folder, epoch+1)\n",
    "        # loss_check_point = '%s/loss_best_%d.pkl' % (save_folder, epoch+1)\n",
    "        # epoch_check_point = '%s/epoch_best_%d.pkl' % (save_folder, epoch+1)\n",
    "        # bleu_check_point = '%s/bleu_best_%d.pkl' % (save_folder, epoch+1)\n",
    "        # \n",
    "        # torch.save(model.state_dict(), model_check_point)\n",
    "        # torch.save(optimizer.state_dict(), optim_check_point)\n",
    "        # torch.save(loss_values, loss_check_point)\n",
    "        # torch.save(epoch_values, epoch_check_point)\n",
    "        # torch.save(bleu_values, bleu_check_point)\n",
    "        save_check_point(model, optimizer, loss_values, epoch_values, bleu_values, save_folder, 'best', version_name, epoch+1)\n",
    "        \n",
    "    # calculate time\n",
    "    end = time.time()\n",
    "    s = end - since\n",
    "    h = math.floor(s / 3600)\n",
    "    m = s - h * 3600\n",
    "    m = math.floor(m / 60)\n",
    "    s -= (m * 60 + h * 3600)\n",
    "    \n",
    "    # verbose\n",
    "    if ((epoch + 1) % verbose == 0) or (epoch == (num_epoch - 1)):\n",
    "        print('epoch %d/%d, loss %.4f, norm %.4f, predict bleu: %.4f, time %.3fs, since %dh %dm %ds'\n",
    "              % (epoch + 1, num_epoch, total_loss / num, norm, bleu_score, end - start, h, m, s))\n",
    "        # 不 sample 全是逗号\n",
    "        evaluateAndShowAttention(['现在', '未来', '梦想', '科学', '文化'], method='beam_search', is_sample=True)"
   ]
  },
  {
   "cell_type": "code",
   "execution_count": 35,
   "metadata": {},
   "outputs": [
    {
     "data": {
      "image/png": "[encoded data removed]",
      "text/plain": [
       "<Figure size 432x288 with 1 Axes>"
      ]
     },
     "metadata": {
      "needs_background": "light"
     },
     "output_type": "display_data"
    }
   ],
   "source": [
    "plt.plot(epoch_values, loss_values, 'b')\n",
    "plt.title('loss vs. epoch')\n",
    "plt.xlabel('epoch')\n",
    "plt.ylabel('loss')\n",
    "plt.show()"
   ]
  },
  {
   "cell_type": "code",
   "execution_count": 36,
   "metadata": {},
   "outputs": [
    {
     "data": {
      "image/png": "[encoded data removed]",
      "text/plain": [
       "<Figure size 432x288 with 1 Axes>"
      ]
     },
     "metadata": {
      "needs_background": "light"
     },
     "output_type": "display_data"
    }
   ],
   "source": [
    "plt.plot(epoch_values, bleu_values, 'r')\n",
    "plt.title('bleu vs. epoch')\n",
    "plt.xlabel('epoch')\n",
    "plt.ylabel('bleu score')\n",
    "plt.show()"
   ]
  },
  {
   "cell_type": "markdown",
   "metadata": {},
   "source": [
    "## Evaluation"
   ]
  },
  {
   "cell_type": "code",
   "execution_count": 37,
   "metadata": {},
   "outputs": [
    {
     "name": "stderr",
     "output_type": "stream",
     "text": [
      "  0%|          | 0/150 [00:00<?, ?it/s]/opt/conda/lib/python3.8/site-packages/nltk/translate/bleu_score.py:552: UserWarning: \n",
      "The hypothesis contains 0 counts of 3-gram overlaps.\n",
      "Therefore the BLEU score evaluates to 0, independently of\n",
      "how many N-gram overlaps of lower order it contains.\n",
      "Consider using lower n-gram order or use SmoothingFunction()\n",
      "  warnings.warn(_msg)\n",
      "/opt/conda/lib/python3.8/site-packages/nltk/translate/bleu_score.py:552: UserWarning: \n",
      "The hypothesis contains 0 counts of 4-gram overlaps.\n",
      "Therefore the BLEU score evaluates to 0, independently of\n",
      "how many N-gram overlaps of lower order it contains.\n",
      "Consider using lower n-gram order or use SmoothingFunction()\n",
      "  warnings.warn(_msg)\n",
      "  1%|          | 1/150 [00:00<01:45,  1.42it/s]/opt/conda/lib/python3.8/site-packages/nltk/translate/bleu_score.py:552: UserWarning: \n",
      "The hypothesis contains 0 counts of 2-gram overlaps.\n",
      "Therefore the BLEU score evaluates to 0, independently of\n",
      "how many N-gram overlaps of lower order it contains.\n",
      "Consider using lower n-gram order or use SmoothingFunction()\n",
      "  warnings.warn(_msg)\n",
      "100%|██████████| 150/150 [02:14<00:00,  1.11it/s]\n"
     ]
    },
    {
     "data": {
      "text/plain": [
       "0.04406987750804204"
      ]
     },
     "execution_count": 37,
     "metadata": {},
     "output_type": "execute_result"
    }
   ],
   "source": [
    "num_test = 5000\n",
    "bleu_score = evaluate_bleu(model, topics_test, corpus_test, num_test=num_test, method='predict_rnn', is_sample=False)\n",
    "bleu_score"
   ]
  },
  {
   "cell_type": "markdown",
   "metadata": {},
   "source": [
    "## Test some samples"
   ]
  },
  {
   "cell_type": "code",
   "execution_count": 38,
   "metadata": {},
   "outputs": [
    {
     "name": "stdout",
     "output_type": "stream",
     "text": [
      "input = 妈妈 希望 长大 孩子 母爱\n",
      "output = <BOS> 聊天 相处 ， 他 没 不 会 自己 又 在 一起 了 ， 心里 很 觉得 自己 很 爱 自己 的 东西 。 但 我 觉得 心里 很 难受 的 时候 ， 但是 她 不 知道 跟 我 。 也 想 跟 过 他 ， 但是 她 也 不 喜欢 她 。 我 想 看 他 在 一起 吃饭 她 对 我 朋友 ， 她 在 一起 ， 他 跟 她 朋友 的 时候 没 一 次 一起 ， 跟 她 吵架 ， 都 是 个 多 个 ， 就是 我 爱 她 会 有 联系 的 人\n"
     ]
    },
    {
     "name": "stderr",
     "output_type": "stream",
     "text": [
      "<ipython-input-22-54bdfb19faf5>:15: UserWarning: FixedFormatter should only be used together with FixedLocator\n",
      "  ax.set_yticklabels([''] + input_sentence.split(' '), fontproperties=fontprop, fontsize=10)\n",
      "<ipython-input-22-54bdfb19faf5>:16: UserWarning: FixedFormatter should only be used together with FixedLocator\n",
      "  ax.set_xticklabels([''] + output_words, fontproperties=fontprop, fontsize=10, rotation=45)\n"
     ]
    },
    {
     "data": {
      "image/png": "[encoded data removed]",
      "text/plain": [
       "<Figure size 3564x180 with 2 Axes>"
      ]
     },
     "metadata": {
      "needs_background": "light"
     },
     "output_type": "display_data"
    },
    {
     "name": "stdout",
     "output_type": "stream",
     "text": [
      "input = 现在 未来 梦想 科学 文化\n",
      "output = <BOS> 事实 我 还是 一个 同学 都 是 不 熟悉 上 书 ， 现在 就 知道 学生 的 学习 ， 我 的 视野 在 我 在 学习 的 时候 不 会 很 好 自己 的 理想 并 了解 ， 那么 我 应该 要 做 什么 学校 有 什么 好 的 吗 ？ 而且 觉得 自己 不 是 很 迷茫 了 。 想 听听 大家 有 哪些 学习 的 准备 ， 谢谢 大家 ～ ！\n"
     ]
    },
    {
     "data": {
      "image/png": "[encoded data removed]",
      "text/plain": [
       "<Figure size 2664x180 with 2 Axes>"
      ]
     },
     "metadata": {
      "needs_background": "light"
     },
     "output_type": "display_data"
    },
    {
     "name": "stdout",
     "output_type": "stream",
     "text": [
      "input = 春天 来临 田野 聆听 小路\n",
      "output = <BOS> 引导 ， 好像 对 很 久 ， 想 问 自己 ， 因为 想 自己 想 去 自己 学习 ， 自己 的 学生 ， 不 简单 。 但是 不 知道 ， 这种 情况 就 是 你们 ， 不 想 在 孩子 眼里 的 人 。 希望 谢谢 。 谢谢 ！\n"
     ]
    },
    {
     "data": {
      "image/png": "[encoded data removed]",
      "text/plain": [
       "<Figure size 1800x180 with 2 Axes>"
      ]
     },
     "metadata": {
      "needs_background": "light"
     },
     "output_type": "display_data"
    },
    {
     "name": "stdout",
     "output_type": "stream",
     "text": [
      "input = 子女 父母 父爱 无比 温暖\n",
      "output = <BOS> 每天 有 两 天 就 想 吃饭 ， 我 觉得 我 相信 小孩子 的 生活 。 我 真的 的 不 是 我 的 我 没有 什么 ， 或者 他 总是 说 她 说 我 吃 ， 但是 一直 不 做 我 ， 这 一 天 又 总 在 一起 ， 她 也 不 敢 一个 是 什么 样子 的 ， 后来 我 现在 不 知道 该 怎么 说 ， 我 给 我 聊天 ， 他 说 她 跟 我 俩 的 时候 聊天 都 是 我 了 ， 但 我 很 想 了解 他 还是 想 成为 他\n"
     ]
    },
    {
     "data": {
      "image/png": "[encoded data removed]",
      "text/plain": [
       "<Figure size 3564x180 with 2 Axes>"
      ]
     },
     "metadata": {
      "needs_background": "light"
     },
     "output_type": "display_data"
    },
    {
     "name": "stdout",
     "output_type": "stream",
     "text": [
      "input = 信念 人生 失落 心灵 不屈\n",
      "output = <BOS> 最 感情 ， 不 是 <UNK> ， <UNK> 一 夜 。 <UNK> 奶奶 都 没 哭 ， 他们 在 男朋友 ， 我 不 知道 该 如何 有 好 的 ， 而且 能 给 其他 比较 好 的 建议 ， 给 我 给 有 说服力 ！\n"
     ]
    },
    {
     "data": {
      "image/png": "[encoded data removed]",
      "text/plain": [
       "<Figure size 1656x180 with 2 Axes>"
      ]
     },
     "metadata": {
      "needs_background": "light"
     },
     "output_type": "display_data"
    },
    {
     "name": "stdout",
     "output_type": "stream",
     "text": [
      "input = 体会 母亲 滴水之恩 母爱 养育之恩\n",
      "output = <BOS> 本人 <UNK> 开学 生 一 年 狗 ， 另 一个 人 的 朋友 和 朋友 。 同学 都 不 很 好 ， 经常 心里 ， 有 不 想 和 我 有 无聊 ， 但 我 还是 不 想 ， 我 觉得 她 提 自己 的 行为 ， 不 看 。\n"
     ]
    },
    {
     "data": {
      "image/png": "[encoded data removed]",
      "text/plain": [
       "<Figure size 1836x180 with 2 Axes>"
      ]
     },
     "metadata": {
      "needs_background": "light"
     },
     "output_type": "display_data"
    }
   ],
   "source": [
    "evaluateAndShowAttention(['妈妈', '希望', '长大', '孩子', '母爱'], method='beam_search', is_sample=True)\n",
    "evaluateAndShowAttention(['现在', '未来', '梦想', '科学', '文化'], method='beam_search', is_sample=True)\n",
    "evaluateAndShowAttention(['春天', '来临', '田野', '聆听', '小路'], method='beam_search', is_sample=True)\n",
    "evaluateAndShowAttention(['子女', '父母', '父爱', '无比', '温暖'], method='beam_search', is_sample=True)\n",
    "evaluateAndShowAttention(['信念', '人生', '失落', '心灵', '不屈'], method='beam_search', is_sample=True)\n",
    "evaluateAndShowAttention(['体会', '母亲', '滴水之恩', '母爱', '养育之恩'], method='beam_search', is_sample=True)"
   ]
  },
  {
   "cell_type": "code",
   "execution_count": null,
   "metadata": {},
   "outputs": [],
   "source": []
  }
 ],
 "metadata": {
  "kernelspec": {
   "display_name": "Python 3",
   "language": "python",
   "name": "python3"
  },
  "language_info": {
   "codemirror_mode": {
    "name": "ipython",
    "version": 3
   },
   "file_extension": ".py",
   "mimetype": "text/x-python",
   "name": "python",
   "nbconvert_exporter": "python",
   "pygments_lexer": "ipython3",
   "version": "3.8.6"
  }
 },
 "nbformat": 4,
 "nbformat_minor": 4
}
